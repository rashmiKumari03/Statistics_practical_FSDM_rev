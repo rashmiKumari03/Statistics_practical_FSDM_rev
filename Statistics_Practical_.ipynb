{
 "cells": [
  {
   "cell_type": "code",
   "execution_count": 239,
   "id": "665a4475",
   "metadata": {},
   "outputs": [],
   "source": [
    "# pandas ,numpy ,matplotlib and seaborn is needed for practical of statistics."
   ]
  },
  {
   "cell_type": "raw",
   "id": "90c66bba",
   "metadata": {},
   "source": [
    "Statistics :\n",
    "    1. Descriptive Statistics\n",
    "    2. Inferential Statisitcs"
   ]
  },
  {
   "cell_type": "markdown",
   "id": "89b64402",
   "metadata": {},
   "source": [
    "The library to used for statistical analysis :\n",
    "* pandas\n",
    "* numpy\n",
    "* matplotlib and seaborn\n",
    "\n",
    "* statsmodel     (For Inferential stats we use it)\n",
    "* scipy\n",
    "* statistics\n"
   ]
  },
  {
   "cell_type": "code",
   "execution_count": 240,
   "id": "5c5500a0",
   "metadata": {},
   "outputs": [],
   "source": [
    "# Stroy starts from the data in statisitics."
   ]
  },
  {
   "cell_type": "code",
   "execution_count": 241,
   "id": "d3693c6f",
   "metadata": {},
   "outputs": [
    {
     "data": {
      "text/plain": [
       "15"
      ]
     },
     "execution_count": 241,
     "metadata": {},
     "output_type": "execute_result"
    }
   ],
   "source": [
    "# Generating the random data.\n",
    "import random\n",
    "random.randint(10,30)   # Generate 1 random number b/w 10 to 30."
   ]
  },
  {
   "cell_type": "code",
   "execution_count": 242,
   "id": "39a859e1",
   "metadata": {},
   "outputs": [
    {
     "name": "stdout",
     "output_type": "stream",
     "text": [
      "[56, 22, 47, 50, 56, 20, 33, 49, 51, 37, 61]\n"
     ]
    }
   ],
   "source": [
    "import random\n",
    "created_data=[]\n",
    "random.seed(10)\n",
    "for _ in range(11):  # If varible is not used i ,...make  it \n",
    "    # This seed will provide us same set of elements at each run.\n",
    "    random_num=random.randint(20,70)\n",
    "    created_data.append(random_num)\n",
    "    \n",
    "print(created_data)   # Random and Discrete data"
   ]
  },
  {
   "cell_type": "code",
   "execution_count": 243,
   "id": "dfc9d87e",
   "metadata": {},
   "outputs": [],
   "source": [
    "# Loading the Dataset:\n",
    "\n",
    "import pandas as pd\n",
    "import numpy as np"
   ]
  },
  {
   "cell_type": "code",
   "execution_count": 244,
   "id": "d95fb4c8",
   "metadata": {},
   "outputs": [],
   "source": [
    "iris = pd.read_csv(\"./datasets/iris.csv\")\n",
    "titanic = pd.read_csv(\"./datasets/titanic.csv\")"
   ]
  },
  {
   "attachments": {
    "Types_of_Data.png": {
     "image/png": "[encoded data removed]"
    }
   },
   "cell_type": "markdown",
   "id": "60d3d9f4",
   "metadata": {},
   "source": [
    "**In Stats we know:**\n",
    "![Types_of_Data.png](attachment:Types_of_Data.png)"
   ]
  },
  {
   "cell_type": "code",
   "execution_count": 245,
   "id": "fb67018d",
   "metadata": {},
   "outputs": [
    {
     "data": {
      "text/html": [
       "<div>\n",
       "<style scoped>\n",
       "    .dataframe tbody tr th:only-of-type {\n",
       "        vertical-align: middle;\n",
       "    }\n",
       "\n",
       "    .dataframe tbody tr th {\n",
       "        vertical-align: top;\n",
       "    }\n",
       "\n",
       "    .dataframe thead th {\n",
       "        text-align: right;\n",
       "    }\n",
       "</style>\n",
       "<table border=\"1\" class=\"dataframe\">\n",
       "  <thead>\n",
       "    <tr style=\"text-align: right;\">\n",
       "      <th></th>\n",
       "      <th>sepal_length</th>\n",
       "      <th>sepal_width</th>\n",
       "      <th>petal_length</th>\n",
       "      <th>petal_width</th>\n",
       "      <th>species</th>\n",
       "    </tr>\n",
       "  </thead>\n",
       "  <tbody>\n",
       "    <tr>\n",
       "      <th>0</th>\n",
       "      <td>5.1</td>\n",
       "      <td>3.5</td>\n",
       "      <td>1.4</td>\n",
       "      <td>0.2</td>\n",
       "      <td>setosa</td>\n",
       "    </tr>\n",
       "    <tr>\n",
       "      <th>1</th>\n",
       "      <td>4.9</td>\n",
       "      <td>3.0</td>\n",
       "      <td>1.4</td>\n",
       "      <td>0.2</td>\n",
       "      <td>setosa</td>\n",
       "    </tr>\n",
       "    <tr>\n",
       "      <th>2</th>\n",
       "      <td>4.7</td>\n",
       "      <td>3.2</td>\n",
       "      <td>1.3</td>\n",
       "      <td>0.2</td>\n",
       "      <td>setosa</td>\n",
       "    </tr>\n",
       "    <tr>\n",
       "      <th>3</th>\n",
       "      <td>4.6</td>\n",
       "      <td>3.1</td>\n",
       "      <td>1.5</td>\n",
       "      <td>0.2</td>\n",
       "      <td>setosa</td>\n",
       "    </tr>\n",
       "    <tr>\n",
       "      <th>4</th>\n",
       "      <td>5.0</td>\n",
       "      <td>3.6</td>\n",
       "      <td>1.4</td>\n",
       "      <td>0.2</td>\n",
       "      <td>setosa</td>\n",
       "    </tr>\n",
       "  </tbody>\n",
       "</table>\n",
       "</div>"
      ],
      "text/plain": [
       "   sepal_length  sepal_width  petal_length  petal_width species\n",
       "0           5.1          3.5           1.4          0.2  setosa\n",
       "1           4.9          3.0           1.4          0.2  setosa\n",
       "2           4.7          3.2           1.3          0.2  setosa\n",
       "3           4.6          3.1           1.5          0.2  setosa\n",
       "4           5.0          3.6           1.4          0.2  setosa"
      ]
     },
     "execution_count": 245,
     "metadata": {},
     "output_type": "execute_result"
    }
   ],
   "source": [
    "iris.head()"
   ]
  },
  {
   "cell_type": "markdown",
   "id": "c945c0ff",
   "metadata": {},
   "source": [
    "Here\n",
    "* sepal_length : Numerical (Continuous) Data\n",
    "* sepal_width  : Numerical (Continuous) Data\n",
    "* petal_length : Numerical (Continuous) Data\n",
    "* petal_width  : Numerical (Continuous) Data\n",
    "* species      : Categorical (Nominal)  Data\n",
    "    "
   ]
  },
  {
   "cell_type": "code",
   "execution_count": 246,
   "id": "69b3aba5",
   "metadata": {},
   "outputs": [
    {
     "data": {
      "text/html": [
       "<div>\n",
       "<style scoped>\n",
       "    .dataframe tbody tr th:only-of-type {\n",
       "        vertical-align: middle;\n",
       "    }\n",
       "\n",
       "    .dataframe tbody tr th {\n",
       "        vertical-align: top;\n",
       "    }\n",
       "\n",
       "    .dataframe thead th {\n",
       "        text-align: right;\n",
       "    }\n",
       "</style>\n",
       "<table border=\"1\" class=\"dataframe\">\n",
       "  <thead>\n",
       "    <tr style=\"text-align: right;\">\n",
       "      <th></th>\n",
       "      <th>survived</th>\n",
       "      <th>pclass</th>\n",
       "      <th>name</th>\n",
       "      <th>sex</th>\n",
       "      <th>age</th>\n",
       "      <th>sibsp</th>\n",
       "      <th>parch</th>\n",
       "      <th>ticket</th>\n",
       "      <th>fare</th>\n",
       "      <th>cabin</th>\n",
       "      <th>embarked</th>\n",
       "    </tr>\n",
       "  </thead>\n",
       "  <tbody>\n",
       "    <tr>\n",
       "      <th>0</th>\n",
       "      <td>0</td>\n",
       "      <td>3</td>\n",
       "      <td>Braund, Mr. Owen Harris</td>\n",
       "      <td>male</td>\n",
       "      <td>22.0</td>\n",
       "      <td>1</td>\n",
       "      <td>0</td>\n",
       "      <td>A/5 21171</td>\n",
       "      <td>7.2500</td>\n",
       "      <td>NaN</td>\n",
       "      <td>S</td>\n",
       "    </tr>\n",
       "    <tr>\n",
       "      <th>1</th>\n",
       "      <td>1</td>\n",
       "      <td>1</td>\n",
       "      <td>Cumings, Mrs. John Bradley (Florence Briggs Th...</td>\n",
       "      <td>female</td>\n",
       "      <td>38.0</td>\n",
       "      <td>1</td>\n",
       "      <td>0</td>\n",
       "      <td>PC 17599</td>\n",
       "      <td>71.2833</td>\n",
       "      <td>C85</td>\n",
       "      <td>C</td>\n",
       "    </tr>\n",
       "    <tr>\n",
       "      <th>2</th>\n",
       "      <td>1</td>\n",
       "      <td>3</td>\n",
       "      <td>Heikkinen, Miss. Laina</td>\n",
       "      <td>female</td>\n",
       "      <td>26.0</td>\n",
       "      <td>0</td>\n",
       "      <td>0</td>\n",
       "      <td>STON/O2. 3101282</td>\n",
       "      <td>7.9250</td>\n",
       "      <td>NaN</td>\n",
       "      <td>S</td>\n",
       "    </tr>\n",
       "    <tr>\n",
       "      <th>3</th>\n",
       "      <td>1</td>\n",
       "      <td>1</td>\n",
       "      <td>Futrelle, Mrs. Jacques Heath (Lily May Peel)</td>\n",
       "      <td>female</td>\n",
       "      <td>35.0</td>\n",
       "      <td>1</td>\n",
       "      <td>0</td>\n",
       "      <td>113803</td>\n",
       "      <td>53.1000</td>\n",
       "      <td>C123</td>\n",
       "      <td>S</td>\n",
       "    </tr>\n",
       "    <tr>\n",
       "      <th>4</th>\n",
       "      <td>0</td>\n",
       "      <td>3</td>\n",
       "      <td>Allen, Mr. William Henry</td>\n",
       "      <td>male</td>\n",
       "      <td>35.0</td>\n",
       "      <td>0</td>\n",
       "      <td>0</td>\n",
       "      <td>373450</td>\n",
       "      <td>8.0500</td>\n",
       "      <td>NaN</td>\n",
       "      <td>S</td>\n",
       "    </tr>\n",
       "  </tbody>\n",
       "</table>\n",
       "</div>"
      ],
      "text/plain": [
       "   survived  pclass                                               name  \\\n",
       "0         0       3                            Braund, Mr. Owen Harris   \n",
       "1         1       1  Cumings, Mrs. John Bradley (Florence Briggs Th...   \n",
       "2         1       3                             Heikkinen, Miss. Laina   \n",
       "3         1       1       Futrelle, Mrs. Jacques Heath (Lily May Peel)   \n",
       "4         0       3                           Allen, Mr. William Henry   \n",
       "\n",
       "      sex   age  sibsp  parch            ticket     fare cabin embarked  \n",
       "0    male  22.0      1      0         A/5 21171   7.2500   NaN        S  \n",
       "1  female  38.0      1      0          PC 17599  71.2833   C85        C  \n",
       "2  female  26.0      0      0  STON/O2. 3101282   7.9250   NaN        S  \n",
       "3  female  35.0      1      0            113803  53.1000  C123        S  \n",
       "4    male  35.0      0      0            373450   8.0500   NaN        S  "
      ]
     },
     "execution_count": 246,
     "metadata": {},
     "output_type": "execute_result"
    }
   ],
   "source": [
    "titanic.head()"
   ]
  },
  {
   "cell_type": "markdown",
   "id": "63642ae4",
   "metadata": {},
   "source": [
    "Here \n",
    "* survived : Categorical (Nominal)\n",
    "* pclass  : Categorical (Ordinal)\n",
    "* name    : Categorical (Nominal) (So many Categories)\n",
    "* sex     : Categorical (Nominal)\n",
    "* age     : Numerical   (Continuous)\n",
    "* sibsp   : Numerical (Discrete)\n",
    "* parch   : Numerical (Discrete)\n",
    "* ticket  : Categorical (Nominal) (So many Categories)\n",
    "* fare    : Numerical (Continuous)\n",
    "* cabin   : Categorical (Nominal) (So many Categories)\n",
    "* embarked : Categorical (Nominal)"
   ]
  },
  {
   "cell_type": "code",
   "execution_count": 247,
   "id": "215c7686",
   "metadata": {},
   "outputs": [],
   "source": [
    "# Later We in Lifecylce of DataSceince we will deal with unstructured data also : Images,Videos,Textual,Sound/Audio etc..These are Unstrustured data.\n",
    "# Whatever we here see as tabular format all are strucutred data."
   ]
  },
  {
   "cell_type": "markdown",
   "id": "4142b9fc",
   "metadata": {},
   "source": [
    "# Descriptive Statistics"
   ]
  },
  {
   "cell_type": "markdown",
   "id": "40dcd464",
   "metadata": {},
   "source": [
    "**CENTAL TENDENCY**\n",
    "- MEAN\n",
    "- MEDIAN\n",
    "- MODE"
   ]
  },
  {
   "cell_type": "code",
   "execution_count": 248,
   "id": "4d99993d",
   "metadata": {},
   "outputs": [],
   "source": [
    "data = created_data.copy()"
   ]
  },
  {
   "cell_type": "code",
   "execution_count": 249,
   "id": "25633434",
   "metadata": {},
   "outputs": [
    {
     "data": {
      "text/plain": [
       "[56, 22, 47, 50, 56, 20, 33, 49, 51, 37, 61]"
      ]
     },
     "execution_count": 249,
     "metadata": {},
     "output_type": "execute_result"
    }
   ],
   "source": [
    "data"
   ]
  },
  {
   "cell_type": "code",
   "execution_count": 250,
   "id": "54d2ba87",
   "metadata": {},
   "outputs": [
    {
     "name": "stdout",
     "output_type": "stream",
     "text": [
      "The mean of [56, 22, 47, 50, 56, 20, 33, 49, 51, 37, 61] is:43.82\n",
      "The median of [56, 22, 47, 50, 56, 20, 33, 49, 51, 37, 61] is:49.0\n"
     ]
    }
   ],
   "source": [
    "print(f\"The mean of {data} is:{np.round(np.mean(data),2)}\")\n",
    "print(f\"The median of {data} is:{np.round(np.median(data),2)}\")"
   ]
  },
  {
   "cell_type": "code",
   "execution_count": 251,
   "id": "0fbff14c",
   "metadata": {},
   "outputs": [
    {
     "name": "stdout",
     "output_type": "stream",
     "text": [
      "The mean of [56, 22, 47, 50, 56, 20, 33, 49, 51, 37, 61] is:43.81818181818182\n",
      "The median of [56, 22, 47, 50, 56, 20, 33, 49, 51, 37, 61] is:49\n",
      "The mode of [56, 22, 47, 50, 56, 20, 33, 49, 51, 37, 61] is:56\n"
     ]
    }
   ],
   "source": [
    "# But numpy dont have any method named mode() , so here we will use another library.\n",
    "import statistics\n",
    "mean = statistics.mean(data)\n",
    "median = statistics.median(data)\n",
    "mode = statistics.mode(data)\n",
    "\n",
    "print(f\"The mean of {data} is:{mean}\")\n",
    "print(f\"The median of {data} is:{median}\")\n",
    "print(f\"The mode of {data} is:{mode}\")"
   ]
  },
  {
   "cell_type": "code",
   "execution_count": 252,
   "id": "ba151c7b",
   "metadata": {},
   "outputs": [
    {
     "name": "stdout",
     "output_type": "stream",
     "text": [
      "The mean of [56, 22, 47, 50, 56, 20, 33, 49, 51, 37, 61] is:43.82\n",
      "The median of [56, 22, 47, 50, 56, 20, 33, 49, 51, 37, 61] is:49\n",
      "The mode of [56, 22, 47, 50, 56, 20, 33, 49, 51, 37, 61] is:56\n"
     ]
    }
   ],
   "source": [
    "# We can round it of upto 2 decimals also..using np.round(data,2)\n",
    "\n",
    "print(f\"The mean of {data} is:{np.round(mean,2)}\")\n",
    "print(f\"The median of {data} is:{median}\")\n",
    "print(f\"The mode of {data} is:{mode}\")"
   ]
  },
  {
   "cell_type": "markdown",
   "id": "1703f163",
   "metadata": {},
   "source": [
    "**Ques : Calculate the mean ,median and mode for all the numerical data from iris dataset**"
   ]
  },
  {
   "cell_type": "code",
   "execution_count": 253,
   "id": "49c6ba42",
   "metadata": {},
   "outputs": [],
   "source": [
    "iris_numerical_data = iris.select_dtypes(include=np.number)\n",
    "iris_categorical_data = iris.select_dtypes(include=object)"
   ]
  },
  {
   "cell_type": "code",
   "execution_count": 254,
   "id": "7e6f0e9a",
   "metadata": {},
   "outputs": [],
   "source": [
    "iris_numerical_cols=list(iris_numerical_data.columns)\n",
    "iris_categorical_cols= list(iris_categorical_data.columns)"
   ]
  },
  {
   "cell_type": "code",
   "execution_count": 255,
   "id": "25967dda",
   "metadata": {},
   "outputs": [
    {
     "data": {
      "text/plain": [
       "['sepal_length', 'sepal_width', 'petal_length', 'petal_width']"
      ]
     },
     "execution_count": 255,
     "metadata": {},
     "output_type": "execute_result"
    }
   ],
   "source": [
    "iris_numerical_cols"
   ]
  },
  {
   "cell_type": "code",
   "execution_count": 256,
   "id": "9b2eae9b",
   "metadata": {},
   "outputs": [
    {
     "data": {
      "text/plain": [
       "['species']"
      ]
     },
     "execution_count": 256,
     "metadata": {},
     "output_type": "execute_result"
    }
   ],
   "source": [
    "iris_categorical_cols"
   ]
  },
  {
   "cell_type": "code",
   "execution_count": 257,
   "id": "9d40a2bb",
   "metadata": {},
   "outputs": [
    {
     "name": "stdout",
     "output_type": "stream",
     "text": [
      "Mean of sepal_length is : 5.84\n",
      "Median of sepal_length is :5.8\n",
      "Mode of sepal_length is : 5.0\n",
      "________________________________________________________________________________________________________________________\n",
      "Mean of sepal_width is : 3.06\n",
      "Median of sepal_width is :3.0\n",
      "Mode of sepal_width is : 3.0\n",
      "________________________________________________________________________________________________________________________\n",
      "Mean of petal_length is : 3.76\n",
      "Median of petal_length is :4.35\n",
      "Mode of petal_length is : 1.4\n",
      "________________________________________________________________________________________________________________________\n",
      "Mean of petal_width is : 1.2\n",
      "Median of petal_width is :1.3\n",
      "Mode of petal_width is : 0.2\n",
      "________________________________________________________________________________________________________________________\n"
     ]
    }
   ],
   "source": [
    "for i in iris_numerical_cols:\n",
    "    print(f\"Mean of {i} is : {np.round(statistics.mean(iris[i]),2)}\")\n",
    "    print(f\"Median of {i} is :{statistics.median(iris[i])}\")\n",
    "    print(f\"Mode of {i} is : {statistics.mode(iris[i])}\")\n",
    "    print(\"_\"*120)"
   ]
  },
  {
   "cell_type": "markdown",
   "id": "9db6af04",
   "metadata": {},
   "source": [
    "**Ques : Calculate the mean , median and mode of the age variable from titanic dataset**"
   ]
  },
  {
   "cell_type": "code",
   "execution_count": 258,
   "id": "29671ecc",
   "metadata": {},
   "outputs": [],
   "source": [
    "age=titanic['age']"
   ]
  },
  {
   "cell_type": "code",
   "execution_count": 259,
   "id": "4873bcc4",
   "metadata": {},
   "outputs": [
    {
     "name": "stdout",
     "output_type": "stream",
     "text": [
      "Mean of the age in titanic was :nan\n",
      "Median of the age in titanic was :nan\n",
      "Mode of the age in titanic was :24.0\n"
     ]
    }
   ],
   "source": [
    "print(f\"Mean of the age in titanic was :{statistics.mean(age)}\")\n",
    "print(f\"Median of the age in titanic was :{statistics.median(age)}\")\n",
    "print(f\"Mode of the age in titanic was :{statistics.mode(age)}\")"
   ]
  },
  {
   "cell_type": "code",
   "execution_count": 260,
   "id": "c4b44fb3",
   "metadata": {},
   "outputs": [
    {
     "data": {
      "text/plain": [
       "survived      0\n",
       "pclass        0\n",
       "name          0\n",
       "sex           0\n",
       "age         177\n",
       "sibsp         0\n",
       "parch         0\n",
       "ticket        0\n",
       "fare          0\n",
       "cabin       687\n",
       "embarked      2\n",
       "dtype: int64"
      ]
     },
     "execution_count": 260,
     "metadata": {},
     "output_type": "execute_result"
    }
   ],
   "source": [
    "# Since most of the data is NaN thats why we are getting this nan..\n",
    "# So we need to preprocess this data and then find out the central values.\n",
    "\n",
    "titanic.isnull().sum()   # We have 177 NaN values in age."
   ]
  },
  {
   "cell_type": "code",
   "execution_count": 261,
   "id": "8fb8a246",
   "metadata": {},
   "outputs": [
    {
     "data": {
      "text/plain": [
       "0"
      ]
     },
     "execution_count": 261,
     "metadata": {},
     "output_type": "execute_result"
    }
   ],
   "source": [
    "titanic.duplicated().sum()  # There are no duplicate values in dataset"
   ]
  },
  {
   "cell_type": "code",
   "execution_count": 262,
   "id": "e2e43a34",
   "metadata": {},
   "outputs": [],
   "source": [
    "# Lets use imputation to fill those values."
   ]
  },
  {
   "cell_type": "code",
   "execution_count": 263,
   "id": "280df8b8",
   "metadata": {},
   "outputs": [
    {
     "data": {
      "text/plain": [
       "0.19865319865319866"
      ]
     },
     "execution_count": 263,
     "metadata": {},
     "output_type": "execute_result"
    }
   ],
   "source": [
    "177/891  # Approach 19% of data is NaN in Age."
   ]
  },
  {
   "cell_type": "markdown",
   "id": "5ab9b167",
   "metadata": {},
   "source": [
    "**EXTRA**\n",
    "\n",
    "Handling Missing Values in Machine Learning\n",
    "\n",
    "In machine learning, missing values in datasets are a common challenge that needs to be addressed before training models. There are several approaches \n",
    "\n",
    "1. **Deletion:**\n",
    "   - **Listwise deletion:** Remove entire rows containing missing values.\n",
    "   - **Pairwise deletion:** Use available data for each specific analysis, discarding missing values only for the variables involved in that particular analysis.\n",
    "   \n",
    "2. **Imputation:**\n",
    "   - **Mean/Median/Mode imputation:** Replace missing values with the mean, median, or mode of the observed data.\n",
    "   - **Predictive imputation:** Predict missing values based on the relationship with other variables. Techniques include regression, k-nearest neighbors, decision trees, or random forests.\n",
    "   - **Multiple imputation:** Generate multiple imputed datasets to reflect uncertainty about the missing values' true values. This involves creating multiple imputations and combining results.\n",
    "   \n",
    "3. **Interpolation:**\n",
    "   - **Time-series interpolation:** For sequential data, missing values can be interpolated based on the surrounding data points' values.\n",
    "   \n",
    "4. **Domain-specific methods:**\n",
    "   - **Expert knowledge:** Use domain knowledge to manually fill in missing values based on the data's context.\n",
    "   \n",
    "5. **Advanced methods:**\n",
    "   - **Deep learning imputation:** Employ neural networks to learn complex patterns and impute missing values.\n",
    "   - **Matrix factorization:** Decompose the dataset into lower-dimensional matrices and fill in missing values using matrix completion techniques.\n",
    "\n",
    "Each method has its advantages and disadvantages, and the choice depends on factors like the amount of missing data, data distribution, and the analysis's goals. Multiple imputation, including the MICE algorithm, is often preferred for its ability to capture uncertainty and provide more accurate estimates. However, it may not always be suitable for every dataset or analysis scenario.\n",
    "\n",
    "\n",
    "\n",
    "## 1. Deletion:\n",
    "\n",
    "### Listwise Deletion:\n",
    "```python\n",
    "titanic_data.dropna(inplace=True)  # Remove rows with any missing values\n",
    "```\n",
    "\n",
    "### Pairwise Deletion:\n",
    "```python\n",
    "pairwise_titanic_data = titanic_data.dropna(subset=['column1', 'column2'])  # Remove rows with missing values in specific columns\n",
    "```\n",
    "\n",
    "## 2. Imputation:\n",
    "\n",
    "### Mean Imputation:\n",
    "```python\n",
    "titanic_data['column'].fillna(titanic_data['column'].mean(), inplace=True)\n",
    "```\n",
    "\n",
    "### Predictive Imputation (using linear regression as an example):\n",
    "```python\n",
    "from sklearn.linear_model import LinearRegression\n",
    "lr = LinearRegression()\n",
    "titanic_data['column'].fillna(lr.fit(X_train, y_train).predict(X_missing), inplace=True)\n",
    "```\n",
    "\n",
    "### Multiple Imputation:\n",
    "```python\n",
    "from sklearn.experimental import enable_iterative_imputer\n",
    "from sklearn.impute import IterativeImputer\n",
    "imp = IterativeImputer(max_iter=10, random_state=0)\n",
    "titanic_data_imputed = imp.fit_transform(titanic_data)\n",
    "```\n",
    "\n",
    "## 3. Interpolation:\n",
    "\n",
    "### Time-Series Interpolation:\n",
    "```python\n",
    "titanic_data['column'].interpolate(method='linear', inplace=True)\n",
    "```\n",
    "\n",
    "## 4. Domain-Specific Methods:\n",
    "\n",
    "This approach typically involves manually filling missing values based on domain knowledge and context, and there's no standard code template for it.\n",
    "\n",
    "## 5. Advanced Methods:\n",
    "\n",
    "### Matrix Factorization (using the `fancyimpute` library):\n",
    "```python\n",
    "from fancyimpute import MatrixFactorization\n",
    "mf = MatrixFactorization()\n",
    "titanic_data_imputed = mf.fit_transform(titanic_data)\n",
    "```\n",
    "\n"
   ]
  },
  {
   "cell_type": "code",
   "execution_count": 264,
   "id": "03c222cf",
   "metadata": {},
   "outputs": [
    {
     "data": {
      "text/html": [
       "<div>\n",
       "<style scoped>\n",
       "    .dataframe tbody tr th:only-of-type {\n",
       "        vertical-align: middle;\n",
       "    }\n",
       "\n",
       "    .dataframe tbody tr th {\n",
       "        vertical-align: top;\n",
       "    }\n",
       "\n",
       "    .dataframe thead th {\n",
       "        text-align: right;\n",
       "    }\n",
       "</style>\n",
       "<table border=\"1\" class=\"dataframe\">\n",
       "  <thead>\n",
       "    <tr style=\"text-align: right;\">\n",
       "      <th></th>\n",
       "      <th>survived</th>\n",
       "      <th>pclass</th>\n",
       "      <th>name</th>\n",
       "      <th>sex</th>\n",
       "      <th>age</th>\n",
       "      <th>sibsp</th>\n",
       "      <th>parch</th>\n",
       "      <th>ticket</th>\n",
       "      <th>fare</th>\n",
       "      <th>cabin</th>\n",
       "      <th>embarked</th>\n",
       "    </tr>\n",
       "  </thead>\n",
       "  <tbody>\n",
       "    <tr>\n",
       "      <th>0</th>\n",
       "      <td>0</td>\n",
       "      <td>3</td>\n",
       "      <td>Braund, Mr. Owen Harris</td>\n",
       "      <td>male</td>\n",
       "      <td>22.0</td>\n",
       "      <td>1</td>\n",
       "      <td>0</td>\n",
       "      <td>A/5 21171</td>\n",
       "      <td>7.2500</td>\n",
       "      <td>NaN</td>\n",
       "      <td>S</td>\n",
       "    </tr>\n",
       "    <tr>\n",
       "      <th>1</th>\n",
       "      <td>1</td>\n",
       "      <td>1</td>\n",
       "      <td>Cumings, Mrs. John Bradley (Florence Briggs Th...</td>\n",
       "      <td>female</td>\n",
       "      <td>38.0</td>\n",
       "      <td>1</td>\n",
       "      <td>0</td>\n",
       "      <td>PC 17599</td>\n",
       "      <td>71.2833</td>\n",
       "      <td>C85</td>\n",
       "      <td>C</td>\n",
       "    </tr>\n",
       "    <tr>\n",
       "      <th>2</th>\n",
       "      <td>1</td>\n",
       "      <td>3</td>\n",
       "      <td>Heikkinen, Miss. Laina</td>\n",
       "      <td>female</td>\n",
       "      <td>26.0</td>\n",
       "      <td>0</td>\n",
       "      <td>0</td>\n",
       "      <td>STON/O2. 3101282</td>\n",
       "      <td>7.9250</td>\n",
       "      <td>NaN</td>\n",
       "      <td>S</td>\n",
       "    </tr>\n",
       "    <tr>\n",
       "      <th>3</th>\n",
       "      <td>1</td>\n",
       "      <td>1</td>\n",
       "      <td>Futrelle, Mrs. Jacques Heath (Lily May Peel)</td>\n",
       "      <td>female</td>\n",
       "      <td>35.0</td>\n",
       "      <td>1</td>\n",
       "      <td>0</td>\n",
       "      <td>113803</td>\n",
       "      <td>53.1000</td>\n",
       "      <td>C123</td>\n",
       "      <td>S</td>\n",
       "    </tr>\n",
       "    <tr>\n",
       "      <th>4</th>\n",
       "      <td>0</td>\n",
       "      <td>3</td>\n",
       "      <td>Allen, Mr. William Henry</td>\n",
       "      <td>male</td>\n",
       "      <td>35.0</td>\n",
       "      <td>0</td>\n",
       "      <td>0</td>\n",
       "      <td>373450</td>\n",
       "      <td>8.0500</td>\n",
       "      <td>NaN</td>\n",
       "      <td>S</td>\n",
       "    </tr>\n",
       "  </tbody>\n",
       "</table>\n",
       "</div>"
      ],
      "text/plain": [
       "   survived  pclass                                               name  \\\n",
       "0         0       3                            Braund, Mr. Owen Harris   \n",
       "1         1       1  Cumings, Mrs. John Bradley (Florence Briggs Th...   \n",
       "2         1       3                             Heikkinen, Miss. Laina   \n",
       "3         1       1       Futrelle, Mrs. Jacques Heath (Lily May Peel)   \n",
       "4         0       3                           Allen, Mr. William Henry   \n",
       "\n",
       "      sex   age  sibsp  parch            ticket     fare cabin embarked  \n",
       "0    male  22.0      1      0         A/5 21171   7.2500   NaN        S  \n",
       "1  female  38.0      1      0          PC 17599  71.2833   C85        C  \n",
       "2  female  26.0      0      0  STON/O2. 3101282   7.9250   NaN        S  \n",
       "3  female  35.0      1      0            113803  53.1000  C123        S  \n",
       "4    male  35.0      0      0            373450   8.0500   NaN        S  "
      ]
     },
     "execution_count": 264,
     "metadata": {},
     "output_type": "execute_result"
    }
   ],
   "source": [
    "titanic.head()"
   ]
  },
  {
   "cell_type": "code",
   "execution_count": 265,
   "id": "2890d060",
   "metadata": {},
   "outputs": [
    {
     "name": "stdout",
     "output_type": "stream",
     "text": [
      "<class 'pandas.core.frame.DataFrame'>\n",
      "RangeIndex: 891 entries, 0 to 890\n",
      "Data columns (total 11 columns):\n",
      " #   Column    Non-Null Count  Dtype  \n",
      "---  ------    --------------  -----  \n",
      " 0   survived  891 non-null    int64  \n",
      " 1   pclass    891 non-null    int64  \n",
      " 2   name      891 non-null    object \n",
      " 3   sex       891 non-null    object \n",
      " 4   age       714 non-null    float64\n",
      " 5   sibsp     891 non-null    int64  \n",
      " 6   parch     891 non-null    int64  \n",
      " 7   ticket    891 non-null    object \n",
      " 8   fare      891 non-null    float64\n",
      " 9   cabin     204 non-null    object \n",
      " 10  embarked  889 non-null    object \n",
      "dtypes: float64(2), int64(4), object(5)\n",
      "memory usage: 76.7+ KB\n"
     ]
    }
   ],
   "source": [
    "titanic.info()"
   ]
  },
  {
   "cell_type": "code",
   "execution_count": 266,
   "id": "436d98f3",
   "metadata": {},
   "outputs": [
    {
     "data": {
      "text/plain": [
       "survived      0\n",
       "pclass        0\n",
       "name          0\n",
       "sex           0\n",
       "age         177\n",
       "sibsp         0\n",
       "parch         0\n",
       "ticket        0\n",
       "fare          0\n",
       "cabin       687\n",
       "embarked      2\n",
       "dtype: int64"
      ]
     },
     "execution_count": 266,
     "metadata": {},
     "output_type": "execute_result"
    }
   ],
   "source": [
    "titanic.isnull().sum()"
   ]
  },
  {
   "cell_type": "code",
   "execution_count": 267,
   "id": "1bc26ddd",
   "metadata": {},
   "outputs": [
    {
     "data": {
      "text/plain": [
       "0"
      ]
     },
     "execution_count": 267,
     "metadata": {},
     "output_type": "execute_result"
    }
   ],
   "source": [
    "titanic.duplicated().sum()"
   ]
  },
  {
   "cell_type": "code",
   "execution_count": 268,
   "id": "aed65db4",
   "metadata": {},
   "outputs": [],
   "source": [
    "titanic_numerical_data = titanic.select_dtypes(include=np.number)\n",
    "titanic_categorical_data = titanic.select_dtypes(include=object)"
   ]
  },
  {
   "cell_type": "code",
   "execution_count": 269,
   "id": "3fd86236",
   "metadata": {},
   "outputs": [],
   "source": [
    "titanic_numerical_cols = titanic_numerical_data.columns.tolist()\n",
    "titanic_categorical_cols = titanic_categorical_data.columns.tolist()"
   ]
  },
  {
   "cell_type": "code",
   "execution_count": 270,
   "id": "2030002e",
   "metadata": {},
   "outputs": [
    {
     "data": {
      "text/html": [
       "<div>\n",
       "<style scoped>\n",
       "    .dataframe tbody tr th:only-of-type {\n",
       "        vertical-align: middle;\n",
       "    }\n",
       "\n",
       "    .dataframe tbody tr th {\n",
       "        vertical-align: top;\n",
       "    }\n",
       "\n",
       "    .dataframe thead th {\n",
       "        text-align: right;\n",
       "    }\n",
       "</style>\n",
       "<table border=\"1\" class=\"dataframe\">\n",
       "  <thead>\n",
       "    <tr style=\"text-align: right;\">\n",
       "      <th></th>\n",
       "      <th>survived</th>\n",
       "      <th>pclass</th>\n",
       "      <th>age</th>\n",
       "      <th>sibsp</th>\n",
       "      <th>parch</th>\n",
       "      <th>fare</th>\n",
       "    </tr>\n",
       "  </thead>\n",
       "  <tbody>\n",
       "    <tr>\n",
       "      <th>0</th>\n",
       "      <td>0</td>\n",
       "      <td>3</td>\n",
       "      <td>22.0</td>\n",
       "      <td>1</td>\n",
       "      <td>0</td>\n",
       "      <td>7.2500</td>\n",
       "    </tr>\n",
       "    <tr>\n",
       "      <th>1</th>\n",
       "      <td>1</td>\n",
       "      <td>1</td>\n",
       "      <td>38.0</td>\n",
       "      <td>1</td>\n",
       "      <td>0</td>\n",
       "      <td>71.2833</td>\n",
       "    </tr>\n",
       "    <tr>\n",
       "      <th>2</th>\n",
       "      <td>1</td>\n",
       "      <td>3</td>\n",
       "      <td>26.0</td>\n",
       "      <td>0</td>\n",
       "      <td>0</td>\n",
       "      <td>7.9250</td>\n",
       "    </tr>\n",
       "    <tr>\n",
       "      <th>3</th>\n",
       "      <td>1</td>\n",
       "      <td>1</td>\n",
       "      <td>35.0</td>\n",
       "      <td>1</td>\n",
       "      <td>0</td>\n",
       "      <td>53.1000</td>\n",
       "    </tr>\n",
       "    <tr>\n",
       "      <th>4</th>\n",
       "      <td>0</td>\n",
       "      <td>3</td>\n",
       "      <td>35.0</td>\n",
       "      <td>0</td>\n",
       "      <td>0</td>\n",
       "      <td>8.0500</td>\n",
       "    </tr>\n",
       "  </tbody>\n",
       "</table>\n",
       "</div>"
      ],
      "text/plain": [
       "   survived  pclass   age  sibsp  parch     fare\n",
       "0         0       3  22.0      1      0   7.2500\n",
       "1         1       1  38.0      1      0  71.2833\n",
       "2         1       3  26.0      0      0   7.9250\n",
       "3         1       1  35.0      1      0  53.1000\n",
       "4         0       3  35.0      0      0   8.0500"
      ]
     },
     "execution_count": 270,
     "metadata": {},
     "output_type": "execute_result"
    }
   ],
   "source": [
    "titanic_numerical_data.head()"
   ]
  },
  {
   "cell_type": "code",
   "execution_count": 271,
   "id": "efdcc884",
   "metadata": {},
   "outputs": [
    {
     "data": {
      "text/html": [
       "<div>\n",
       "<style scoped>\n",
       "    .dataframe tbody tr th:only-of-type {\n",
       "        vertical-align: middle;\n",
       "    }\n",
       "\n",
       "    .dataframe tbody tr th {\n",
       "        vertical-align: top;\n",
       "    }\n",
       "\n",
       "    .dataframe thead th {\n",
       "        text-align: right;\n",
       "    }\n",
       "</style>\n",
       "<table border=\"1\" class=\"dataframe\">\n",
       "  <thead>\n",
       "    <tr style=\"text-align: right;\">\n",
       "      <th></th>\n",
       "      <th>name</th>\n",
       "      <th>sex</th>\n",
       "      <th>ticket</th>\n",
       "      <th>cabin</th>\n",
       "      <th>embarked</th>\n",
       "    </tr>\n",
       "  </thead>\n",
       "  <tbody>\n",
       "    <tr>\n",
       "      <th>0</th>\n",
       "      <td>Braund, Mr. Owen Harris</td>\n",
       "      <td>male</td>\n",
       "      <td>A/5 21171</td>\n",
       "      <td>NaN</td>\n",
       "      <td>S</td>\n",
       "    </tr>\n",
       "    <tr>\n",
       "      <th>1</th>\n",
       "      <td>Cumings, Mrs. John Bradley (Florence Briggs Th...</td>\n",
       "      <td>female</td>\n",
       "      <td>PC 17599</td>\n",
       "      <td>C85</td>\n",
       "      <td>C</td>\n",
       "    </tr>\n",
       "    <tr>\n",
       "      <th>2</th>\n",
       "      <td>Heikkinen, Miss. Laina</td>\n",
       "      <td>female</td>\n",
       "      <td>STON/O2. 3101282</td>\n",
       "      <td>NaN</td>\n",
       "      <td>S</td>\n",
       "    </tr>\n",
       "    <tr>\n",
       "      <th>3</th>\n",
       "      <td>Futrelle, Mrs. Jacques Heath (Lily May Peel)</td>\n",
       "      <td>female</td>\n",
       "      <td>113803</td>\n",
       "      <td>C123</td>\n",
       "      <td>S</td>\n",
       "    </tr>\n",
       "    <tr>\n",
       "      <th>4</th>\n",
       "      <td>Allen, Mr. William Henry</td>\n",
       "      <td>male</td>\n",
       "      <td>373450</td>\n",
       "      <td>NaN</td>\n",
       "      <td>S</td>\n",
       "    </tr>\n",
       "  </tbody>\n",
       "</table>\n",
       "</div>"
      ],
      "text/plain": [
       "                                                name     sex  \\\n",
       "0                            Braund, Mr. Owen Harris    male   \n",
       "1  Cumings, Mrs. John Bradley (Florence Briggs Th...  female   \n",
       "2                             Heikkinen, Miss. Laina  female   \n",
       "3       Futrelle, Mrs. Jacques Heath (Lily May Peel)  female   \n",
       "4                           Allen, Mr. William Henry    male   \n",
       "\n",
       "             ticket cabin embarked  \n",
       "0         A/5 21171   NaN        S  \n",
       "1          PC 17599   C85        C  \n",
       "2  STON/O2. 3101282   NaN        S  \n",
       "3            113803  C123        S  \n",
       "4            373450   NaN        S  "
      ]
     },
     "execution_count": 271,
     "metadata": {},
     "output_type": "execute_result"
    }
   ],
   "source": [
    "titanic_categorical_data.head()"
   ]
  },
  {
   "cell_type": "code",
   "execution_count": 272,
   "id": "1f7fd729",
   "metadata": {},
   "outputs": [
    {
     "data": {
      "text/plain": [
       "name        891\n",
       "sex           2\n",
       "ticket      681\n",
       "cabin       147\n",
       "embarked      3\n",
       "dtype: int64"
      ]
     },
     "execution_count": 272,
     "metadata": {},
     "output_type": "execute_result"
    }
   ],
   "source": [
    "# LEts see how many unique values are there in each of the categorical columms.\n",
    "titanic[titanic_categorical_cols].nunique()\n",
    "\n",
    "# Since we can observe that the number of unique elements in name and ticket and cabin is way way more...its better to ignore them for "
   ]
  },
  {
   "cell_type": "code",
   "execution_count": 273,
   "id": "584d54d3",
   "metadata": {},
   "outputs": [
    {
     "data": {
      "text/plain": [
       "0.7643097643097643"
      ]
     },
     "execution_count": 273,
     "metadata": {},
     "output_type": "execute_result"
    }
   ],
   "source": [
    "681/891  # Approach 76% of data are unique in ticket...this wont helps in analyze any generalization.."
   ]
  },
  {
   "cell_type": "code",
   "execution_count": 274,
   "id": "7a47d0da",
   "metadata": {},
   "outputs": [
    {
     "data": {
      "text/plain": [
       "0.16498316498316498"
      ]
     },
     "execution_count": 274,
     "metadata": {},
     "output_type": "execute_result"
    }
   ],
   "source": [
    "147/891  # drop this too."
   ]
  },
  {
   "cell_type": "markdown",
   "id": "863c140e",
   "metadata": {},
   "source": [
    "Columns with High Cardinality: Columns with a high number of unique values relative to the total number of samples (e.g., 'Name', 'Ticket', 'Cabin') may not contribute much predictive power to the model and can be dropped."
   ]
  },
  {
   "cell_type": "code",
   "execution_count": 275,
   "id": "a0abcd38",
   "metadata": {},
   "outputs": [],
   "source": [
    "titanic.drop(columns=['name','ticket','cabin'],inplace=True)"
   ]
  },
  {
   "cell_type": "code",
   "execution_count": 276,
   "id": "63e3d432",
   "metadata": {},
   "outputs": [
    {
     "data": {
      "text/html": [
       "<div>\n",
       "<style scoped>\n",
       "    .dataframe tbody tr th:only-of-type {\n",
       "        vertical-align: middle;\n",
       "    }\n",
       "\n",
       "    .dataframe tbody tr th {\n",
       "        vertical-align: top;\n",
       "    }\n",
       "\n",
       "    .dataframe thead th {\n",
       "        text-align: right;\n",
       "    }\n",
       "</style>\n",
       "<table border=\"1\" class=\"dataframe\">\n",
       "  <thead>\n",
       "    <tr style=\"text-align: right;\">\n",
       "      <th></th>\n",
       "      <th>survived</th>\n",
       "      <th>pclass</th>\n",
       "      <th>sex</th>\n",
       "      <th>age</th>\n",
       "      <th>sibsp</th>\n",
       "      <th>parch</th>\n",
       "      <th>fare</th>\n",
       "      <th>embarked</th>\n",
       "    </tr>\n",
       "  </thead>\n",
       "  <tbody>\n",
       "    <tr>\n",
       "      <th>0</th>\n",
       "      <td>0</td>\n",
       "      <td>3</td>\n",
       "      <td>male</td>\n",
       "      <td>22.0</td>\n",
       "      <td>1</td>\n",
       "      <td>0</td>\n",
       "      <td>7.2500</td>\n",
       "      <td>S</td>\n",
       "    </tr>\n",
       "    <tr>\n",
       "      <th>1</th>\n",
       "      <td>1</td>\n",
       "      <td>1</td>\n",
       "      <td>female</td>\n",
       "      <td>38.0</td>\n",
       "      <td>1</td>\n",
       "      <td>0</td>\n",
       "      <td>71.2833</td>\n",
       "      <td>C</td>\n",
       "    </tr>\n",
       "    <tr>\n",
       "      <th>2</th>\n",
       "      <td>1</td>\n",
       "      <td>3</td>\n",
       "      <td>female</td>\n",
       "      <td>26.0</td>\n",
       "      <td>0</td>\n",
       "      <td>0</td>\n",
       "      <td>7.9250</td>\n",
       "      <td>S</td>\n",
       "    </tr>\n",
       "    <tr>\n",
       "      <th>3</th>\n",
       "      <td>1</td>\n",
       "      <td>1</td>\n",
       "      <td>female</td>\n",
       "      <td>35.0</td>\n",
       "      <td>1</td>\n",
       "      <td>0</td>\n",
       "      <td>53.1000</td>\n",
       "      <td>S</td>\n",
       "    </tr>\n",
       "    <tr>\n",
       "      <th>4</th>\n",
       "      <td>0</td>\n",
       "      <td>3</td>\n",
       "      <td>male</td>\n",
       "      <td>35.0</td>\n",
       "      <td>0</td>\n",
       "      <td>0</td>\n",
       "      <td>8.0500</td>\n",
       "      <td>S</td>\n",
       "    </tr>\n",
       "  </tbody>\n",
       "</table>\n",
       "</div>"
      ],
      "text/plain": [
       "   survived  pclass     sex   age  sibsp  parch     fare embarked\n",
       "0         0       3    male  22.0      1      0   7.2500        S\n",
       "1         1       1  female  38.0      1      0  71.2833        C\n",
       "2         1       3  female  26.0      0      0   7.9250        S\n",
       "3         1       1  female  35.0      1      0  53.1000        S\n",
       "4         0       3    male  35.0      0      0   8.0500        S"
      ]
     },
     "execution_count": 276,
     "metadata": {},
     "output_type": "execute_result"
    }
   ],
   "source": [
    "titanic.head()"
   ]
  },
  {
   "cell_type": "code",
   "execution_count": 277,
   "id": "5e3a4571",
   "metadata": {},
   "outputs": [
    {
     "data": {
      "text/plain": [
       "survived      0\n",
       "pclass        0\n",
       "sex           0\n",
       "age         177\n",
       "sibsp         0\n",
       "parch         0\n",
       "fare          0\n",
       "embarked      2\n",
       "dtype: int64"
      ]
     },
     "execution_count": 277,
     "metadata": {},
     "output_type": "execute_result"
    }
   ],
   "source": [
    "titanic.isnull().sum()"
   ]
  },
  {
   "cell_type": "code",
   "execution_count": 278,
   "id": "cbfcd58b",
   "metadata": {},
   "outputs": [
    {
     "data": {
      "text/html": [
       "<div>\n",
       "<style scoped>\n",
       "    .dataframe tbody tr th:only-of-type {\n",
       "        vertical-align: middle;\n",
       "    }\n",
       "\n",
       "    .dataframe tbody tr th {\n",
       "        vertical-align: top;\n",
       "    }\n",
       "\n",
       "    .dataframe thead th {\n",
       "        text-align: right;\n",
       "    }\n",
       "</style>\n",
       "<table border=\"1\" class=\"dataframe\">\n",
       "  <thead>\n",
       "    <tr style=\"text-align: right;\">\n",
       "      <th></th>\n",
       "      <th>survived</th>\n",
       "      <th>pclass</th>\n",
       "      <th>sex</th>\n",
       "      <th>age</th>\n",
       "      <th>sibsp</th>\n",
       "      <th>parch</th>\n",
       "      <th>fare</th>\n",
       "      <th>embarked</th>\n",
       "    </tr>\n",
       "  </thead>\n",
       "  <tbody>\n",
       "    <tr>\n",
       "      <th>0</th>\n",
       "      <td>0</td>\n",
       "      <td>3</td>\n",
       "      <td>male</td>\n",
       "      <td>22.0</td>\n",
       "      <td>1</td>\n",
       "      <td>0</td>\n",
       "      <td>7.2500</td>\n",
       "      <td>S</td>\n",
       "    </tr>\n",
       "    <tr>\n",
       "      <th>1</th>\n",
       "      <td>1</td>\n",
       "      <td>1</td>\n",
       "      <td>female</td>\n",
       "      <td>38.0</td>\n",
       "      <td>1</td>\n",
       "      <td>0</td>\n",
       "      <td>71.2833</td>\n",
       "      <td>C</td>\n",
       "    </tr>\n",
       "    <tr>\n",
       "      <th>2</th>\n",
       "      <td>1</td>\n",
       "      <td>3</td>\n",
       "      <td>female</td>\n",
       "      <td>26.0</td>\n",
       "      <td>0</td>\n",
       "      <td>0</td>\n",
       "      <td>7.9250</td>\n",
       "      <td>S</td>\n",
       "    </tr>\n",
       "    <tr>\n",
       "      <th>3</th>\n",
       "      <td>1</td>\n",
       "      <td>1</td>\n",
       "      <td>female</td>\n",
       "      <td>35.0</td>\n",
       "      <td>1</td>\n",
       "      <td>0</td>\n",
       "      <td>53.1000</td>\n",
       "      <td>S</td>\n",
       "    </tr>\n",
       "    <tr>\n",
       "      <th>4</th>\n",
       "      <td>0</td>\n",
       "      <td>3</td>\n",
       "      <td>male</td>\n",
       "      <td>35.0</td>\n",
       "      <td>0</td>\n",
       "      <td>0</td>\n",
       "      <td>8.0500</td>\n",
       "      <td>S</td>\n",
       "    </tr>\n",
       "  </tbody>\n",
       "</table>\n",
       "</div>"
      ],
      "text/plain": [
       "   survived  pclass     sex   age  sibsp  parch     fare embarked\n",
       "0         0       3    male  22.0      1      0   7.2500        S\n",
       "1         1       1  female  38.0      1      0  71.2833        C\n",
       "2         1       3  female  26.0      0      0   7.9250        S\n",
       "3         1       1  female  35.0      1      0  53.1000        S\n",
       "4         0       3    male  35.0      0      0   8.0500        S"
      ]
     },
     "execution_count": 278,
     "metadata": {},
     "output_type": "execute_result"
    }
   ],
   "source": [
    "# Extra : lets do copy to understand if mean or median came to be nan then how to handle it using multivariate impuation??\n",
    "# Lets make a copy of titanic dataset \n",
    "\n",
    "titanic_for_impute = titanic.copy()\n",
    "titanic_for_impute.head()"
   ]
  },
  {
   "cell_type": "code",
   "execution_count": 279,
   "id": "34cd66da",
   "metadata": {},
   "outputs": [
    {
     "name": "stdout",
     "output_type": "stream",
     "text": [
      "Mean of age: nan\n",
      "Median of age: nan\n"
     ]
    }
   ],
   "source": [
    "print(\"Mean of age:\",statistics.mean(titanic['age']))\n",
    "print(\"Median of age:\",statistics.median(titanic['age']))\n",
    "\n",
    "# NaN---> Then any how statistics.mean() will return NaN only....So its better to use df.mean()  as they can handle the missing values."
   ]
  },
  {
   "cell_type": "markdown",
   "id": "4b57e02c",
   "metadata": {},
   "source": [
    "\n",
    "\n",
    "\"When we use `statistics.mean()`, it may return NaN (Not a Number) if there are missing or invalid values in the data it operates on. The `statistics` module in Python typically operates on lists or arrays of numerical data. If there are any non-numeric values or NaNs within the data, it can result in NaN being returned.\n",
    "\n",
    "NaN---> Then any how statistics.mean() will return NaN only....So its better to use df.mean() or np.mean() as they can handle the missing values.\n",
    "\n",
    "However, using `np.mean()` from the NumPy library or `df.mean()` from the pandas library is often more effective in handling missing or invalid values. These functions usually have built-in mechanisms to ignore NaNs when computing the mean of an array or DataFrame. This behavior helps ensure that the calculation proceeds smoothly even if there are missing values in the data.\n",
    "\n",
    "If NaNs are encountered with `statistics.mean()`, it's advisable to check the data for any missing or invalid values and handle them appropriately before using the `statistics` module functions. Alternatively, using NumPy or pandas functions can provide more versatility in handling such scenarios.\""
   ]
  },
  {
   "cell_type": "code",
   "execution_count": 280,
   "id": "bd4d131d",
   "metadata": {},
   "outputs": [
    {
     "name": "stdout",
     "output_type": "stream",
     "text": [
      "Mean of age: 29.69911764705882\n",
      "Median of age: 28.0\n"
     ]
    }
   ],
   "source": [
    "# Lets find the values using df.mean()\n",
    "print(\"Mean of age:\" , titanic['age'].mean())\n",
    "print(\"Median of age:\",titanic['age'].median())"
   ]
  },
  {
   "cell_type": "markdown",
   "id": "417ddf01",
   "metadata": {},
   "source": [
    "**Now our task is to impute the correct value in age**\n",
    "* Approach 1: Since the amount is so much about 19% nan is there we cannot afford to drop it.--->Rejected\n",
    "* Approach 2: (Univariate IMPUTER is SimpleImputer) : Imputing the mean or median value in place of nan. ..we can replace nan with them. ----> Accepted\n",
    "* Approach 3: Multivariate IMPUTER is IterativeImputer which is actually MICE Imputer or KNN Imputer--> Lets use Iterative Imputer."
   ]
  },
  {
   "cell_type": "code",
   "execution_count": 281,
   "id": "8d21fcf4",
   "metadata": {},
   "outputs": [
    {
     "data": {
      "text/html": [
       "<div>\n",
       "<style scoped>\n",
       "    .dataframe tbody tr th:only-of-type {\n",
       "        vertical-align: middle;\n",
       "    }\n",
       "\n",
       "    .dataframe tbody tr th {\n",
       "        vertical-align: top;\n",
       "    }\n",
       "\n",
       "    .dataframe thead th {\n",
       "        text-align: right;\n",
       "    }\n",
       "</style>\n",
       "<table border=\"1\" class=\"dataframe\">\n",
       "  <thead>\n",
       "    <tr style=\"text-align: right;\">\n",
       "      <th></th>\n",
       "      <th>survived</th>\n",
       "      <th>pclass</th>\n",
       "      <th>sex</th>\n",
       "      <th>age</th>\n",
       "      <th>sibsp</th>\n",
       "      <th>parch</th>\n",
       "      <th>fare</th>\n",
       "      <th>embarked</th>\n",
       "    </tr>\n",
       "  </thead>\n",
       "  <tbody>\n",
       "    <tr>\n",
       "      <th>0</th>\n",
       "      <td>0</td>\n",
       "      <td>3</td>\n",
       "      <td>male</td>\n",
       "      <td>22.0</td>\n",
       "      <td>1</td>\n",
       "      <td>0</td>\n",
       "      <td>7.2500</td>\n",
       "      <td>S</td>\n",
       "    </tr>\n",
       "    <tr>\n",
       "      <th>1</th>\n",
       "      <td>1</td>\n",
       "      <td>1</td>\n",
       "      <td>female</td>\n",
       "      <td>38.0</td>\n",
       "      <td>1</td>\n",
       "      <td>0</td>\n",
       "      <td>71.2833</td>\n",
       "      <td>C</td>\n",
       "    </tr>\n",
       "  </tbody>\n",
       "</table>\n",
       "</div>"
      ],
      "text/plain": [
       "   survived  pclass     sex   age  sibsp  parch     fare embarked\n",
       "0         0       3    male  22.0      1      0   7.2500        S\n",
       "1         1       1  female  38.0      1      0  71.2833        C"
      ]
     },
     "execution_count": 281,
     "metadata": {},
     "output_type": "execute_result"
    }
   ],
   "source": [
    "# We can do iterative imputer when the feature has correlation...for finding we should have all the values in numeric form.\n",
    "titanic.head(2)"
   ]
  },
  {
   "cell_type": "markdown",
   "id": "ab0afa11",
   "metadata": {},
   "source": [
    "##### USED SimpleImputer()  from sklearn when we have not null values as mean , median or mode"
   ]
  },
  {
   "cell_type": "code",
   "execution_count": 282,
   "id": "154b835c",
   "metadata": {},
   "outputs": [
    {
     "name": "stdout",
     "output_type": "stream",
     "text": [
      "Medain of the Age is: 28.0\n",
      "Most Frequent value in Embarked is: S\n"
     ]
    }
   ],
   "source": [
    "# Since the Embarked Column has null values lets fill those.\n",
    "print(\"Medain of the Age is:\",titanic['age'].median())\n",
    "print(\"Most Frequent value in Embarked is:\",statistics.mode(titanic['embarked']))\n",
    "\n",
    "# Lets replace the NaN using SimpleImputer with the stategry of mode.\n",
    "\n",
    "from sklearn.impute import SimpleImputer\n",
    "\n",
    "sim_age = SimpleImputer(strategy='median')\n",
    "sim_emarked = SimpleImputer(strategy='most_frequent')\n",
    "\n",
    "\n",
    "# Imputing in place of nan in the respective columns\n",
    "titanic[['age']] = sim_age.fit_transform(titanic[['age']])\n",
    "titanic[['embarked']]=sim_emarked.fit_transform(titanic[['embarked']])"
   ]
  },
  {
   "cell_type": "code",
   "execution_count": 283,
   "id": "e6382a4b",
   "metadata": {},
   "outputs": [
    {
     "data": {
      "text/plain": [
       "survived    0\n",
       "pclass      0\n",
       "sex         0\n",
       "age         0\n",
       "sibsp       0\n",
       "parch       0\n",
       "fare        0\n",
       "embarked    0\n",
       "dtype: int64"
      ]
     },
     "execution_count": 283,
     "metadata": {},
     "output_type": "execute_result"
    }
   ],
   "source": [
    "titanic.isnull().sum()   # No null values in embarked now.."
   ]
  },
  {
   "cell_type": "markdown",
   "id": "585dfff6",
   "metadata": {},
   "source": [
    "-----------------------------------------------------------------------------------------------------\n",
    "##### Encoding : sex and embarked...using One Hot Encoding...so that later sklearn will work with it ,as sklearn cannot work with non numeric values."
   ]
  },
  {
   "cell_type": "markdown",
   "id": "ca422d35",
   "metadata": {},
   "source": [
    "Lets do Label or One Hot endcoding...Better to use OHE , while dealing with Nominal data.\n",
    "Because Using Lable Encoding may introduce unintended ordinality...which we dont want...thats why we use one hot encoding.\n",
    "\n",
    "Since both \"sex\" and \"embarked\" are nominal variables without any ordinal relationship between categories, One Hot Encoding would be the better choice. It ensures that the model treats each category equally without introducing any unintended relationships."
   ]
  },
  {
   "cell_type": "code",
   "execution_count": 284,
   "id": "c29cdf34",
   "metadata": {},
   "outputs": [
    {
     "name": "stdout",
     "output_type": "stream",
     "text": [
      "[[0. 1. 0. 0. 1.]\n",
      " [1. 0. 1. 0. 0.]\n",
      " [1. 0. 0. 0. 1.]\n",
      " ...\n",
      " [1. 0. 0. 0. 1.]\n",
      " [0. 1. 1. 0. 0.]\n",
      " [0. 1. 0. 1. 0.]]\n"
     ]
    }
   ],
   "source": [
    "from sklearn.preprocessing import OneHotEncoder\n",
    "ohe = OneHotEncoder(handle_unknown='ignore')\n",
    "sex_embarked = ohe.fit_transform(titanic[['sex','embarked']])\n",
    "sex_embarked=sex_embarked.toarray()\n",
    "print(sex_embarked)"
   ]
  },
  {
   "cell_type": "code",
   "execution_count": 285,
   "id": "da009b91",
   "metadata": {},
   "outputs": [
    {
     "data": {
      "text/plain": [
       "array(['sex_female', 'sex_male', 'embarked_C', 'embarked_Q', 'embarked_S'],\n",
       "      dtype=object)"
      ]
     },
     "execution_count": 285,
     "metadata": {},
     "output_type": "execute_result"
    }
   ],
   "source": [
    "ohe.get_feature_names_out(['sex','embarked'])"
   ]
  },
  {
   "cell_type": "code",
   "execution_count": 286,
   "id": "074d33e9",
   "metadata": {},
   "outputs": [
    {
     "data": {
      "text/html": [
       "<div>\n",
       "<style scoped>\n",
       "    .dataframe tbody tr th:only-of-type {\n",
       "        vertical-align: middle;\n",
       "    }\n",
       "\n",
       "    .dataframe tbody tr th {\n",
       "        vertical-align: top;\n",
       "    }\n",
       "\n",
       "    .dataframe thead th {\n",
       "        text-align: right;\n",
       "    }\n",
       "</style>\n",
       "<table border=\"1\" class=\"dataframe\">\n",
       "  <thead>\n",
       "    <tr style=\"text-align: right;\">\n",
       "      <th></th>\n",
       "      <th>sex_female</th>\n",
       "      <th>sex_male</th>\n",
       "      <th>embarked_C</th>\n",
       "      <th>embarked_Q</th>\n",
       "      <th>embarked_S</th>\n",
       "    </tr>\n",
       "  </thead>\n",
       "  <tbody>\n",
       "    <tr>\n",
       "      <th>0</th>\n",
       "      <td>0.0</td>\n",
       "      <td>1.0</td>\n",
       "      <td>0.0</td>\n",
       "      <td>0.0</td>\n",
       "      <td>1.0</td>\n",
       "    </tr>\n",
       "    <tr>\n",
       "      <th>1</th>\n",
       "      <td>1.0</td>\n",
       "      <td>0.0</td>\n",
       "      <td>1.0</td>\n",
       "      <td>0.0</td>\n",
       "      <td>0.0</td>\n",
       "    </tr>\n",
       "    <tr>\n",
       "      <th>2</th>\n",
       "      <td>1.0</td>\n",
       "      <td>0.0</td>\n",
       "      <td>0.0</td>\n",
       "      <td>0.0</td>\n",
       "      <td>1.0</td>\n",
       "    </tr>\n",
       "    <tr>\n",
       "      <th>3</th>\n",
       "      <td>1.0</td>\n",
       "      <td>0.0</td>\n",
       "      <td>0.0</td>\n",
       "      <td>0.0</td>\n",
       "      <td>1.0</td>\n",
       "    </tr>\n",
       "    <tr>\n",
       "      <th>4</th>\n",
       "      <td>0.0</td>\n",
       "      <td>1.0</td>\n",
       "      <td>0.0</td>\n",
       "      <td>0.0</td>\n",
       "      <td>1.0</td>\n",
       "    </tr>\n",
       "    <tr>\n",
       "      <th>...</th>\n",
       "      <td>...</td>\n",
       "      <td>...</td>\n",
       "      <td>...</td>\n",
       "      <td>...</td>\n",
       "      <td>...</td>\n",
       "    </tr>\n",
       "    <tr>\n",
       "      <th>886</th>\n",
       "      <td>0.0</td>\n",
       "      <td>1.0</td>\n",
       "      <td>0.0</td>\n",
       "      <td>0.0</td>\n",
       "      <td>1.0</td>\n",
       "    </tr>\n",
       "    <tr>\n",
       "      <th>887</th>\n",
       "      <td>1.0</td>\n",
       "      <td>0.0</td>\n",
       "      <td>0.0</td>\n",
       "      <td>0.0</td>\n",
       "      <td>1.0</td>\n",
       "    </tr>\n",
       "    <tr>\n",
       "      <th>888</th>\n",
       "      <td>1.0</td>\n",
       "      <td>0.0</td>\n",
       "      <td>0.0</td>\n",
       "      <td>0.0</td>\n",
       "      <td>1.0</td>\n",
       "    </tr>\n",
       "    <tr>\n",
       "      <th>889</th>\n",
       "      <td>0.0</td>\n",
       "      <td>1.0</td>\n",
       "      <td>1.0</td>\n",
       "      <td>0.0</td>\n",
       "      <td>0.0</td>\n",
       "    </tr>\n",
       "    <tr>\n",
       "      <th>890</th>\n",
       "      <td>0.0</td>\n",
       "      <td>1.0</td>\n",
       "      <td>0.0</td>\n",
       "      <td>1.0</td>\n",
       "      <td>0.0</td>\n",
       "    </tr>\n",
       "  </tbody>\n",
       "</table>\n",
       "<p>891 rows × 5 columns</p>\n",
       "</div>"
      ],
      "text/plain": [
       "     sex_female  sex_male  embarked_C  embarked_Q  embarked_S\n",
       "0           0.0       1.0         0.0         0.0         1.0\n",
       "1           1.0       0.0         1.0         0.0         0.0\n",
       "2           1.0       0.0         0.0         0.0         1.0\n",
       "3           1.0       0.0         0.0         0.0         1.0\n",
       "4           0.0       1.0         0.0         0.0         1.0\n",
       "..          ...       ...         ...         ...         ...\n",
       "886         0.0       1.0         0.0         0.0         1.0\n",
       "887         1.0       0.0         0.0         0.0         1.0\n",
       "888         1.0       0.0         0.0         0.0         1.0\n",
       "889         0.0       1.0         1.0         0.0         0.0\n",
       "890         0.0       1.0         0.0         1.0         0.0\n",
       "\n",
       "[891 rows x 5 columns]"
      ]
     },
     "execution_count": 286,
     "metadata": {},
     "output_type": "execute_result"
    }
   ],
   "source": [
    "sex_embarked_df = pd.DataFrame(sex_embarked, columns=ohe.get_feature_names_out(['sex','embarked']))\n",
    "sex_embarked_df"
   ]
  },
  {
   "cell_type": "code",
   "execution_count": 287,
   "id": "f9b3e57c",
   "metadata": {},
   "outputs": [
    {
     "data": {
      "text/html": [
       "<div>\n",
       "<style scoped>\n",
       "    .dataframe tbody tr th:only-of-type {\n",
       "        vertical-align: middle;\n",
       "    }\n",
       "\n",
       "    .dataframe tbody tr th {\n",
       "        vertical-align: top;\n",
       "    }\n",
       "\n",
       "    .dataframe thead th {\n",
       "        text-align: right;\n",
       "    }\n",
       "</style>\n",
       "<table border=\"1\" class=\"dataframe\">\n",
       "  <thead>\n",
       "    <tr style=\"text-align: right;\">\n",
       "      <th></th>\n",
       "      <th>survived</th>\n",
       "      <th>pclass</th>\n",
       "      <th>sex</th>\n",
       "      <th>age</th>\n",
       "      <th>sibsp</th>\n",
       "      <th>parch</th>\n",
       "      <th>fare</th>\n",
       "      <th>embarked</th>\n",
       "      <th>sex_female</th>\n",
       "      <th>sex_male</th>\n",
       "      <th>embarked_C</th>\n",
       "      <th>embarked_Q</th>\n",
       "      <th>embarked_S</th>\n",
       "    </tr>\n",
       "  </thead>\n",
       "  <tbody>\n",
       "    <tr>\n",
       "      <th>0</th>\n",
       "      <td>0</td>\n",
       "      <td>3</td>\n",
       "      <td>male</td>\n",
       "      <td>22.0</td>\n",
       "      <td>1</td>\n",
       "      <td>0</td>\n",
       "      <td>7.2500</td>\n",
       "      <td>S</td>\n",
       "      <td>0.0</td>\n",
       "      <td>1.0</td>\n",
       "      <td>0.0</td>\n",
       "      <td>0.0</td>\n",
       "      <td>1.0</td>\n",
       "    </tr>\n",
       "    <tr>\n",
       "      <th>1</th>\n",
       "      <td>1</td>\n",
       "      <td>1</td>\n",
       "      <td>female</td>\n",
       "      <td>38.0</td>\n",
       "      <td>1</td>\n",
       "      <td>0</td>\n",
       "      <td>71.2833</td>\n",
       "      <td>C</td>\n",
       "      <td>1.0</td>\n",
       "      <td>0.0</td>\n",
       "      <td>1.0</td>\n",
       "      <td>0.0</td>\n",
       "      <td>0.0</td>\n",
       "    </tr>\n",
       "    <tr>\n",
       "      <th>2</th>\n",
       "      <td>1</td>\n",
       "      <td>3</td>\n",
       "      <td>female</td>\n",
       "      <td>26.0</td>\n",
       "      <td>0</td>\n",
       "      <td>0</td>\n",
       "      <td>7.9250</td>\n",
       "      <td>S</td>\n",
       "      <td>1.0</td>\n",
       "      <td>0.0</td>\n",
       "      <td>0.0</td>\n",
       "      <td>0.0</td>\n",
       "      <td>1.0</td>\n",
       "    </tr>\n",
       "    <tr>\n",
       "      <th>3</th>\n",
       "      <td>1</td>\n",
       "      <td>1</td>\n",
       "      <td>female</td>\n",
       "      <td>35.0</td>\n",
       "      <td>1</td>\n",
       "      <td>0</td>\n",
       "      <td>53.1000</td>\n",
       "      <td>S</td>\n",
       "      <td>1.0</td>\n",
       "      <td>0.0</td>\n",
       "      <td>0.0</td>\n",
       "      <td>0.0</td>\n",
       "      <td>1.0</td>\n",
       "    </tr>\n",
       "    <tr>\n",
       "      <th>4</th>\n",
       "      <td>0</td>\n",
       "      <td>3</td>\n",
       "      <td>male</td>\n",
       "      <td>35.0</td>\n",
       "      <td>0</td>\n",
       "      <td>0</td>\n",
       "      <td>8.0500</td>\n",
       "      <td>S</td>\n",
       "      <td>0.0</td>\n",
       "      <td>1.0</td>\n",
       "      <td>0.0</td>\n",
       "      <td>0.0</td>\n",
       "      <td>1.0</td>\n",
       "    </tr>\n",
       "  </tbody>\n",
       "</table>\n",
       "</div>"
      ],
      "text/plain": [
       "   survived  pclass     sex   age  sibsp  parch     fare embarked  sex_female  \\\n",
       "0         0       3    male  22.0      1      0   7.2500        S         0.0   \n",
       "1         1       1  female  38.0      1      0  71.2833        C         1.0   \n",
       "2         1       3  female  26.0      0      0   7.9250        S         1.0   \n",
       "3         1       1  female  35.0      1      0  53.1000        S         1.0   \n",
       "4         0       3    male  35.0      0      0   8.0500        S         0.0   \n",
       "\n",
       "   sex_male  embarked_C  embarked_Q  embarked_S  \n",
       "0       1.0         0.0         0.0         1.0  \n",
       "1       0.0         1.0         0.0         0.0  \n",
       "2       0.0         0.0         0.0         1.0  \n",
       "3       0.0         0.0         0.0         1.0  \n",
       "4       1.0         0.0         0.0         1.0  "
      ]
     },
     "execution_count": 287,
     "metadata": {},
     "output_type": "execute_result"
    }
   ],
   "source": [
    "# Concatenate the original titanic DataFrame with the encoded DataFrame\n",
    "titanic_df = pd.concat([titanic, sex_embarked_df], axis=1)\n",
    "titanic_df.head()"
   ]
  },
  {
   "cell_type": "code",
   "execution_count": 288,
   "id": "80b19db5",
   "metadata": {},
   "outputs": [],
   "source": [
    "# Lets drop this sex and embarked features from the data titanic_df.\n",
    "\n",
    "titanic_df.drop(columns=['sex','embarked'],axis=1,inplace=True)"
   ]
  },
  {
   "cell_type": "code",
   "execution_count": 289,
   "id": "1140b7da",
   "metadata": {},
   "outputs": [
    {
     "data": {
      "text/html": [
       "<div>\n",
       "<style scoped>\n",
       "    .dataframe tbody tr th:only-of-type {\n",
       "        vertical-align: middle;\n",
       "    }\n",
       "\n",
       "    .dataframe tbody tr th {\n",
       "        vertical-align: top;\n",
       "    }\n",
       "\n",
       "    .dataframe thead th {\n",
       "        text-align: right;\n",
       "    }\n",
       "</style>\n",
       "<table border=\"1\" class=\"dataframe\">\n",
       "  <thead>\n",
       "    <tr style=\"text-align: right;\">\n",
       "      <th></th>\n",
       "      <th>survived</th>\n",
       "      <th>pclass</th>\n",
       "      <th>age</th>\n",
       "      <th>sibsp</th>\n",
       "      <th>parch</th>\n",
       "      <th>fare</th>\n",
       "      <th>sex_female</th>\n",
       "      <th>sex_male</th>\n",
       "      <th>embarked_C</th>\n",
       "      <th>embarked_Q</th>\n",
       "      <th>embarked_S</th>\n",
       "    </tr>\n",
       "  </thead>\n",
       "  <tbody>\n",
       "    <tr>\n",
       "      <th>0</th>\n",
       "      <td>0</td>\n",
       "      <td>3</td>\n",
       "      <td>22.0</td>\n",
       "      <td>1</td>\n",
       "      <td>0</td>\n",
       "      <td>7.2500</td>\n",
       "      <td>0.0</td>\n",
       "      <td>1.0</td>\n",
       "      <td>0.0</td>\n",
       "      <td>0.0</td>\n",
       "      <td>1.0</td>\n",
       "    </tr>\n",
       "    <tr>\n",
       "      <th>1</th>\n",
       "      <td>1</td>\n",
       "      <td>1</td>\n",
       "      <td>38.0</td>\n",
       "      <td>1</td>\n",
       "      <td>0</td>\n",
       "      <td>71.2833</td>\n",
       "      <td>1.0</td>\n",
       "      <td>0.0</td>\n",
       "      <td>1.0</td>\n",
       "      <td>0.0</td>\n",
       "      <td>0.0</td>\n",
       "    </tr>\n",
       "    <tr>\n",
       "      <th>2</th>\n",
       "      <td>1</td>\n",
       "      <td>3</td>\n",
       "      <td>26.0</td>\n",
       "      <td>0</td>\n",
       "      <td>0</td>\n",
       "      <td>7.9250</td>\n",
       "      <td>1.0</td>\n",
       "      <td>0.0</td>\n",
       "      <td>0.0</td>\n",
       "      <td>0.0</td>\n",
       "      <td>1.0</td>\n",
       "    </tr>\n",
       "    <tr>\n",
       "      <th>3</th>\n",
       "      <td>1</td>\n",
       "      <td>1</td>\n",
       "      <td>35.0</td>\n",
       "      <td>1</td>\n",
       "      <td>0</td>\n",
       "      <td>53.1000</td>\n",
       "      <td>1.0</td>\n",
       "      <td>0.0</td>\n",
       "      <td>0.0</td>\n",
       "      <td>0.0</td>\n",
       "      <td>1.0</td>\n",
       "    </tr>\n",
       "    <tr>\n",
       "      <th>4</th>\n",
       "      <td>0</td>\n",
       "      <td>3</td>\n",
       "      <td>35.0</td>\n",
       "      <td>0</td>\n",
       "      <td>0</td>\n",
       "      <td>8.0500</td>\n",
       "      <td>0.0</td>\n",
       "      <td>1.0</td>\n",
       "      <td>0.0</td>\n",
       "      <td>0.0</td>\n",
       "      <td>1.0</td>\n",
       "    </tr>\n",
       "  </tbody>\n",
       "</table>\n",
       "</div>"
      ],
      "text/plain": [
       "   survived  pclass   age  sibsp  parch     fare  sex_female  sex_male  \\\n",
       "0         0       3  22.0      1      0   7.2500         0.0       1.0   \n",
       "1         1       1  38.0      1      0  71.2833         1.0       0.0   \n",
       "2         1       3  26.0      0      0   7.9250         1.0       0.0   \n",
       "3         1       1  35.0      1      0  53.1000         1.0       0.0   \n",
       "4         0       3  35.0      0      0   8.0500         0.0       1.0   \n",
       "\n",
       "   embarked_C  embarked_Q  embarked_S  \n",
       "0         0.0         0.0         1.0  \n",
       "1         1.0         0.0         0.0  \n",
       "2         0.0         0.0         1.0  \n",
       "3         0.0         0.0         1.0  \n",
       "4         0.0         0.0         1.0  "
      ]
     },
     "execution_count": 289,
     "metadata": {},
     "output_type": "execute_result"
    }
   ],
   "source": [
    "titanic_df.head()   # Now we can see that there is no non numeric values in the dataset...we can now apply corr() to find the correlation of the features."
   ]
  },
  {
   "cell_type": "code",
   "execution_count": 290,
   "id": "1cf52848",
   "metadata": {},
   "outputs": [
    {
     "data": {
      "text/plain": [
       "survived      0\n",
       "pclass        0\n",
       "age           0\n",
       "sibsp         0\n",
       "parch         0\n",
       "fare          0\n",
       "sex_female    0\n",
       "sex_male      0\n",
       "embarked_C    0\n",
       "embarked_Q    0\n",
       "embarked_S    0\n",
       "dtype: int64"
      ]
     },
     "execution_count": 290,
     "metadata": {},
     "output_type": "execute_result"
    }
   ],
   "source": [
    "titanic_df.isnull().sum()"
   ]
  },
  {
   "cell_type": "code",
   "execution_count": 291,
   "id": "54b677f1",
   "metadata": {},
   "outputs": [
    {
     "data": {
      "text/plain": [
       "survived       0.383838\n",
       "pclass         2.308642\n",
       "age           29.361582\n",
       "sibsp          0.523008\n",
       "parch          0.381594\n",
       "fare          32.204208\n",
       "sex_female     0.352413\n",
       "sex_male       0.647587\n",
       "embarked_C     0.188552\n",
       "embarked_Q     0.086420\n",
       "embarked_S     0.725028\n",
       "dtype: float64"
      ]
     },
     "execution_count": 291,
     "metadata": {},
     "output_type": "execute_result"
    }
   ],
   "source": [
    "titanic_df.mean()"
   ]
  },
  {
   "cell_type": "code",
   "execution_count": 292,
   "id": "a2a49c60",
   "metadata": {},
   "outputs": [
    {
     "data": {
      "text/html": [
       "<div>\n",
       "<style scoped>\n",
       "    .dataframe tbody tr th:only-of-type {\n",
       "        vertical-align: middle;\n",
       "    }\n",
       "\n",
       "    .dataframe tbody tr th {\n",
       "        vertical-align: top;\n",
       "    }\n",
       "\n",
       "    .dataframe thead th {\n",
       "        text-align: right;\n",
       "    }\n",
       "</style>\n",
       "<table border=\"1\" class=\"dataframe\">\n",
       "  <thead>\n",
       "    <tr style=\"text-align: right;\">\n",
       "      <th></th>\n",
       "      <th>survived</th>\n",
       "      <th>pclass</th>\n",
       "      <th>age</th>\n",
       "      <th>sibsp</th>\n",
       "      <th>parch</th>\n",
       "      <th>fare</th>\n",
       "      <th>sex_female</th>\n",
       "      <th>sex_male</th>\n",
       "      <th>embarked_C</th>\n",
       "      <th>embarked_Q</th>\n",
       "      <th>embarked_S</th>\n",
       "    </tr>\n",
       "  </thead>\n",
       "  <tbody>\n",
       "    <tr>\n",
       "      <th>survived</th>\n",
       "      <td>1.000000</td>\n",
       "      <td>-0.338481</td>\n",
       "      <td>-0.064910</td>\n",
       "      <td>-0.035322</td>\n",
       "      <td>0.081629</td>\n",
       "      <td>0.257307</td>\n",
       "      <td>0.543351</td>\n",
       "      <td>-0.543351</td>\n",
       "      <td>0.168240</td>\n",
       "      <td>0.003650</td>\n",
       "      <td>-0.149683</td>\n",
       "    </tr>\n",
       "    <tr>\n",
       "      <th>pclass</th>\n",
       "      <td>-0.338481</td>\n",
       "      <td>1.000000</td>\n",
       "      <td>-0.339898</td>\n",
       "      <td>0.083081</td>\n",
       "      <td>0.018443</td>\n",
       "      <td>-0.549500</td>\n",
       "      <td>-0.131900</td>\n",
       "      <td>0.131900</td>\n",
       "      <td>-0.243292</td>\n",
       "      <td>0.221009</td>\n",
       "      <td>0.074053</td>\n",
       "    </tr>\n",
       "    <tr>\n",
       "      <th>age</th>\n",
       "      <td>-0.064910</td>\n",
       "      <td>-0.339898</td>\n",
       "      <td>1.000000</td>\n",
       "      <td>-0.233296</td>\n",
       "      <td>-0.172482</td>\n",
       "      <td>0.096688</td>\n",
       "      <td>-0.081163</td>\n",
       "      <td>0.081163</td>\n",
       "      <td>0.030248</td>\n",
       "      <td>-0.031415</td>\n",
       "      <td>-0.006729</td>\n",
       "    </tr>\n",
       "    <tr>\n",
       "      <th>sibsp</th>\n",
       "      <td>-0.035322</td>\n",
       "      <td>0.083081</td>\n",
       "      <td>-0.233296</td>\n",
       "      <td>1.000000</td>\n",
       "      <td>0.414838</td>\n",
       "      <td>0.159651</td>\n",
       "      <td>0.114631</td>\n",
       "      <td>-0.114631</td>\n",
       "      <td>-0.059528</td>\n",
       "      <td>-0.026354</td>\n",
       "      <td>0.068734</td>\n",
       "    </tr>\n",
       "    <tr>\n",
       "      <th>parch</th>\n",
       "      <td>0.081629</td>\n",
       "      <td>0.018443</td>\n",
       "      <td>-0.172482</td>\n",
       "      <td>0.414838</td>\n",
       "      <td>1.000000</td>\n",
       "      <td>0.216225</td>\n",
       "      <td>0.245489</td>\n",
       "      <td>-0.245489</td>\n",
       "      <td>-0.011069</td>\n",
       "      <td>-0.081228</td>\n",
       "      <td>0.060814</td>\n",
       "    </tr>\n",
       "    <tr>\n",
       "      <th>fare</th>\n",
       "      <td>0.257307</td>\n",
       "      <td>-0.549500</td>\n",
       "      <td>0.096688</td>\n",
       "      <td>0.159651</td>\n",
       "      <td>0.216225</td>\n",
       "      <td>1.000000</td>\n",
       "      <td>0.182333</td>\n",
       "      <td>-0.182333</td>\n",
       "      <td>0.269335</td>\n",
       "      <td>-0.117216</td>\n",
       "      <td>-0.162184</td>\n",
       "    </tr>\n",
       "    <tr>\n",
       "      <th>sex_female</th>\n",
       "      <td>0.543351</td>\n",
       "      <td>-0.131900</td>\n",
       "      <td>-0.081163</td>\n",
       "      <td>0.114631</td>\n",
       "      <td>0.245489</td>\n",
       "      <td>0.182333</td>\n",
       "      <td>1.000000</td>\n",
       "      <td>-1.000000</td>\n",
       "      <td>0.082853</td>\n",
       "      <td>0.074115</td>\n",
       "      <td>-0.119224</td>\n",
       "    </tr>\n",
       "    <tr>\n",
       "      <th>sex_male</th>\n",
       "      <td>-0.543351</td>\n",
       "      <td>0.131900</td>\n",
       "      <td>0.081163</td>\n",
       "      <td>-0.114631</td>\n",
       "      <td>-0.245489</td>\n",
       "      <td>-0.182333</td>\n",
       "      <td>-1.000000</td>\n",
       "      <td>1.000000</td>\n",
       "      <td>-0.082853</td>\n",
       "      <td>-0.074115</td>\n",
       "      <td>0.119224</td>\n",
       "    </tr>\n",
       "    <tr>\n",
       "      <th>embarked_C</th>\n",
       "      <td>0.168240</td>\n",
       "      <td>-0.243292</td>\n",
       "      <td>0.030248</td>\n",
       "      <td>-0.059528</td>\n",
       "      <td>-0.011069</td>\n",
       "      <td>0.269335</td>\n",
       "      <td>0.082853</td>\n",
       "      <td>-0.082853</td>\n",
       "      <td>1.000000</td>\n",
       "      <td>-0.148258</td>\n",
       "      <td>-0.782742</td>\n",
       "    </tr>\n",
       "    <tr>\n",
       "      <th>embarked_Q</th>\n",
       "      <td>0.003650</td>\n",
       "      <td>0.221009</td>\n",
       "      <td>-0.031415</td>\n",
       "      <td>-0.026354</td>\n",
       "      <td>-0.081228</td>\n",
       "      <td>-0.117216</td>\n",
       "      <td>0.074115</td>\n",
       "      <td>-0.074115</td>\n",
       "      <td>-0.148258</td>\n",
       "      <td>1.000000</td>\n",
       "      <td>-0.499421</td>\n",
       "    </tr>\n",
       "    <tr>\n",
       "      <th>embarked_S</th>\n",
       "      <td>-0.149683</td>\n",
       "      <td>0.074053</td>\n",
       "      <td>-0.006729</td>\n",
       "      <td>0.068734</td>\n",
       "      <td>0.060814</td>\n",
       "      <td>-0.162184</td>\n",
       "      <td>-0.119224</td>\n",
       "      <td>0.119224</td>\n",
       "      <td>-0.782742</td>\n",
       "      <td>-0.499421</td>\n",
       "      <td>1.000000</td>\n",
       "    </tr>\n",
       "  </tbody>\n",
       "</table>\n",
       "</div>"
      ],
      "text/plain": [
       "            survived    pclass       age     sibsp     parch      fare  \\\n",
       "survived    1.000000 -0.338481 -0.064910 -0.035322  0.081629  0.257307   \n",
       "pclass     -0.338481  1.000000 -0.339898  0.083081  0.018443 -0.549500   \n",
       "age        -0.064910 -0.339898  1.000000 -0.233296 -0.172482  0.096688   \n",
       "sibsp      -0.035322  0.083081 -0.233296  1.000000  0.414838  0.159651   \n",
       "parch       0.081629  0.018443 -0.172482  0.414838  1.000000  0.216225   \n",
       "fare        0.257307 -0.549500  0.096688  0.159651  0.216225  1.000000   \n",
       "sex_female  0.543351 -0.131900 -0.081163  0.114631  0.245489  0.182333   \n",
       "sex_male   -0.543351  0.131900  0.081163 -0.114631 -0.245489 -0.182333   \n",
       "embarked_C  0.168240 -0.243292  0.030248 -0.059528 -0.011069  0.269335   \n",
       "embarked_Q  0.003650  0.221009 -0.031415 -0.026354 -0.081228 -0.117216   \n",
       "embarked_S -0.149683  0.074053 -0.006729  0.068734  0.060814 -0.162184   \n",
       "\n",
       "            sex_female  sex_male  embarked_C  embarked_Q  embarked_S  \n",
       "survived      0.543351 -0.543351    0.168240    0.003650   -0.149683  \n",
       "pclass       -0.131900  0.131900   -0.243292    0.221009    0.074053  \n",
       "age          -0.081163  0.081163    0.030248   -0.031415   -0.006729  \n",
       "sibsp         0.114631 -0.114631   -0.059528   -0.026354    0.068734  \n",
       "parch         0.245489 -0.245489   -0.011069   -0.081228    0.060814  \n",
       "fare          0.182333 -0.182333    0.269335   -0.117216   -0.162184  \n",
       "sex_female    1.000000 -1.000000    0.082853    0.074115   -0.119224  \n",
       "sex_male     -1.000000  1.000000   -0.082853   -0.074115    0.119224  \n",
       "embarked_C    0.082853 -0.082853    1.000000   -0.148258   -0.782742  \n",
       "embarked_Q    0.074115 -0.074115   -0.148258    1.000000   -0.499421  \n",
       "embarked_S   -0.119224  0.119224   -0.782742   -0.499421    1.000000  "
      ]
     },
     "execution_count": 292,
     "metadata": {},
     "output_type": "execute_result"
    }
   ],
   "source": [
    "t_corr = titanic_df.corr()\n",
    "t_corr"
   ]
  },
  {
   "cell_type": "code",
   "execution_count": 293,
   "id": "6983886d",
   "metadata": {},
   "outputs": [
    {
     "data": {
      "image/png": "[encoded data removed]",
      "text/plain": [
       "<Figure size 1100x800 with 2 Axes>"
      ]
     },
     "metadata": {},
     "output_type": "display_data"
    }
   ],
   "source": [
    "# Lets visulaize the correaction in the heatmap\n",
    "import seaborn as sns\n",
    "import matplotlib.pyplot as plt\n",
    "\n",
    "plt.figure(figsize=(11,8))\n",
    "sns.heatmap(t_corr,annot=True,cmap='PiYG', fmt=\".2f\")\n",
    "plt.title(\"Correlation b/w features of titanic data\",fontsize=22)  \n",
    "plt.show()\n"
   ]
  },
  {
   "cell_type": "markdown",
   "id": "8a8a53a7",
   "metadata": {},
   "source": [
    "--------------------------------------------------------------------------------------------------------\n",
    "# EXTRA "
   ]
  },
  {
   "cell_type": "markdown",
   "id": "767ac5df",
   "metadata": {},
   "source": [
    "Here we will check which features has the correlation at what extend?\n",
    "\n",
    "Observation:\n",
    "* Since sex_male and sex_female are opposite of each other...if it could be male then definatley i wont be female => -1 (highly negative correlation).\n",
    "* Now we have to take feature age vs other fatures...what is their correlation? => pclass(-0.37) and sibsp(-0.31) has somewhat more correlation then other features.\n",
    "Lets take these age,pclass,sibsp : Use IterativeImputer : which will make any 1 of them as target and rest independent data..and based on that predict the nan in target...and this will be done for all the possible columns there...also there would be iterations ,whose aim is to minimize the diff b/w predicted values of previous and current iterations.\n",
    "\n",
    "\n",
    "           -  We select pclass and sibsp as features to use for imputation based on their correlation with age.\n",
    "           -  Initialize IterativeImputer and set max_iter to control the maximum number of iterations for imputation.\n",
    "           -  Fit and transform the imputer on the selected features along with the target age.\n",
    "           -  Update the age column in the original DataFrame with the imputed values."
   ]
  },
  {
   "cell_type": "markdown",
   "id": "fe245a79",
   "metadata": {},
   "source": [
    "### Suppose in any Case , by chance we got NaN as mean or median then we need to use Multivariate Imputation Methods...That's why i just introduced...it here..Firstly if we have categorical data---> using encoding make it in numbers --> use correaltion to know which features have nice correlation..because this is the pre requisite of multivariate imputation...like knn_impuation or mice_imputation or iterative_imputation.\n",
    "\n",
    "##### OR we can use these also instead of Simple Imputer . The Answer will be more effective.."
   ]
  },
  {
   "cell_type": "code",
   "execution_count": 294,
   "id": "fc3d7026",
   "metadata": {},
   "outputs": [],
   "source": [
    "# IterativeImputer : also kind of MICE Imputer (Multivariate Imputation by Chained Equations.)\n",
    "from sklearn.experimental import enable_iterative_imputer\n",
    "from sklearn.impute import KNNImputer, IterativeImputer  # These two are Multivariate Imputers\n"
   ]
  },
  {
   "cell_type": "code",
   "execution_count": 295,
   "id": "2977b85f",
   "metadata": {},
   "outputs": [
    {
     "data": {
      "text/html": [
       "<div>\n",
       "<style scoped>\n",
       "    .dataframe tbody tr th:only-of-type {\n",
       "        vertical-align: middle;\n",
       "    }\n",
       "\n",
       "    .dataframe tbody tr th {\n",
       "        vertical-align: top;\n",
       "    }\n",
       "\n",
       "    .dataframe thead th {\n",
       "        text-align: right;\n",
       "    }\n",
       "</style>\n",
       "<table border=\"1\" class=\"dataframe\">\n",
       "  <thead>\n",
       "    <tr style=\"text-align: right;\">\n",
       "      <th></th>\n",
       "      <th>survived</th>\n",
       "      <th>pclass</th>\n",
       "      <th>sex</th>\n",
       "      <th>age</th>\n",
       "      <th>sibsp</th>\n",
       "      <th>parch</th>\n",
       "      <th>fare</th>\n",
       "      <th>embarked</th>\n",
       "    </tr>\n",
       "  </thead>\n",
       "  <tbody>\n",
       "    <tr>\n",
       "      <th>0</th>\n",
       "      <td>0</td>\n",
       "      <td>3</td>\n",
       "      <td>male</td>\n",
       "      <td>22.0</td>\n",
       "      <td>1</td>\n",
       "      <td>0</td>\n",
       "      <td>7.2500</td>\n",
       "      <td>S</td>\n",
       "    </tr>\n",
       "    <tr>\n",
       "      <th>1</th>\n",
       "      <td>1</td>\n",
       "      <td>1</td>\n",
       "      <td>female</td>\n",
       "      <td>38.0</td>\n",
       "      <td>1</td>\n",
       "      <td>0</td>\n",
       "      <td>71.2833</td>\n",
       "      <td>C</td>\n",
       "    </tr>\n",
       "    <tr>\n",
       "      <th>2</th>\n",
       "      <td>1</td>\n",
       "      <td>3</td>\n",
       "      <td>female</td>\n",
       "      <td>26.0</td>\n",
       "      <td>0</td>\n",
       "      <td>0</td>\n",
       "      <td>7.9250</td>\n",
       "      <td>S</td>\n",
       "    </tr>\n",
       "    <tr>\n",
       "      <th>3</th>\n",
       "      <td>1</td>\n",
       "      <td>1</td>\n",
       "      <td>female</td>\n",
       "      <td>35.0</td>\n",
       "      <td>1</td>\n",
       "      <td>0</td>\n",
       "      <td>53.1000</td>\n",
       "      <td>S</td>\n",
       "    </tr>\n",
       "    <tr>\n",
       "      <th>4</th>\n",
       "      <td>0</td>\n",
       "      <td>3</td>\n",
       "      <td>male</td>\n",
       "      <td>35.0</td>\n",
       "      <td>0</td>\n",
       "      <td>0</td>\n",
       "      <td>8.0500</td>\n",
       "      <td>S</td>\n",
       "    </tr>\n",
       "  </tbody>\n",
       "</table>\n",
       "</div>"
      ],
      "text/plain": [
       "   survived  pclass     sex   age  sibsp  parch     fare embarked\n",
       "0         0       3    male  22.0      1      0   7.2500        S\n",
       "1         1       1  female  38.0      1      0  71.2833        C\n",
       "2         1       3  female  26.0      0      0   7.9250        S\n",
       "3         1       1  female  35.0      1      0  53.1000        S\n",
       "4         0       3    male  35.0      0      0   8.0500        S"
      ]
     },
     "execution_count": 295,
     "metadata": {},
     "output_type": "execute_result"
    }
   ],
   "source": [
    "# Since i have made a copy of titanic dataset into titanic_for_impute..so that i can learn multivariate imputation also.\n",
    "\n",
    "titanic_for_impute.head()"
   ]
  },
  {
   "cell_type": "code",
   "execution_count": 296,
   "id": "a37c52a4",
   "metadata": {},
   "outputs": [
    {
     "data": {
      "text/plain": [
       "survived      0\n",
       "pclass        0\n",
       "sex           0\n",
       "age         177\n",
       "sibsp         0\n",
       "parch         0\n",
       "fare          0\n",
       "embarked      2\n",
       "dtype: int64"
      ]
     },
     "execution_count": 296,
     "metadata": {},
     "output_type": "execute_result"
    }
   ],
   "source": [
    "titanic_for_impute.isnull().sum()"
   ]
  },
  {
   "cell_type": "code",
   "execution_count": 297,
   "id": "5202f442",
   "metadata": {},
   "outputs": [
    {
     "data": {
      "text/html": [
       "<div>\n",
       "<style scoped>\n",
       "    .dataframe tbody tr th:only-of-type {\n",
       "        vertical-align: middle;\n",
       "    }\n",
       "\n",
       "    .dataframe tbody tr th {\n",
       "        vertical-align: top;\n",
       "    }\n",
       "\n",
       "    .dataframe thead th {\n",
       "        text-align: right;\n",
       "    }\n",
       "</style>\n",
       "<table border=\"1\" class=\"dataframe\">\n",
       "  <thead>\n",
       "    <tr style=\"text-align: right;\">\n",
       "      <th></th>\n",
       "      <th>age</th>\n",
       "      <th>pclass</th>\n",
       "      <th>sibsp</th>\n",
       "    </tr>\n",
       "  </thead>\n",
       "  <tbody>\n",
       "    <tr>\n",
       "      <th>0</th>\n",
       "      <td>22.0</td>\n",
       "      <td>3</td>\n",
       "      <td>1</td>\n",
       "    </tr>\n",
       "    <tr>\n",
       "      <th>1</th>\n",
       "      <td>38.0</td>\n",
       "      <td>1</td>\n",
       "      <td>1</td>\n",
       "    </tr>\n",
       "    <tr>\n",
       "      <th>2</th>\n",
       "      <td>26.0</td>\n",
       "      <td>3</td>\n",
       "      <td>0</td>\n",
       "    </tr>\n",
       "    <tr>\n",
       "      <th>3</th>\n",
       "      <td>35.0</td>\n",
       "      <td>1</td>\n",
       "      <td>1</td>\n",
       "    </tr>\n",
       "    <tr>\n",
       "      <th>4</th>\n",
       "      <td>35.0</td>\n",
       "      <td>3</td>\n",
       "      <td>0</td>\n",
       "    </tr>\n",
       "  </tbody>\n",
       "</table>\n",
       "</div>"
      ],
      "text/plain": [
       "    age  pclass  sibsp\n",
       "0  22.0       3      1\n",
       "1  38.0       1      1\n",
       "2  26.0       3      0\n",
       "3  35.0       1      1\n",
       "4  35.0       3      0"
      ]
     },
     "execution_count": 297,
     "metadata": {},
     "output_type": "execute_result"
    }
   ],
   "source": [
    "data_impute = titanic_for_impute[['age','pclass','sibsp']]\n",
    "data_impute.head()"
   ]
  },
  {
   "cell_type": "code",
   "execution_count": 298,
   "id": "395aac2c",
   "metadata": {},
   "outputs": [
    {
     "data": {
      "text/plain": [
       "age       177\n",
       "pclass      0\n",
       "sibsp       0\n",
       "dtype: int64"
      ]
     },
     "execution_count": 298,
     "metadata": {},
     "output_type": "execute_result"
    }
   ],
   "source": [
    "data_impute.isnull().sum()   # Only age has nan values."
   ]
  },
  {
   "cell_type": "code",
   "execution_count": 299,
   "id": "56b296db",
   "metadata": {},
   "outputs": [
    {
     "data": {
      "text/plain": [
       "age       29.699118\n",
       "pclass     2.308642\n",
       "sibsp      0.523008\n",
       "dtype: float64"
      ]
     },
     "execution_count": 299,
     "metadata": {},
     "output_type": "execute_result"
    }
   ],
   "source": [
    "data_impute.mean()"
   ]
  },
  {
   "cell_type": "code",
   "execution_count": 300,
   "id": "8ed16be2",
   "metadata": {},
   "outputs": [
    {
     "data": {
      "text/plain": [
       "age       19.87\n",
       "pclass     0.00\n",
       "sibsp      0.00\n",
       "dtype: float64"
      ]
     },
     "execution_count": 300,
     "metadata": {},
     "output_type": "execute_result"
    }
   ],
   "source": [
    "np.round(data_impute.isnull().sum() / len(titanic_for_impute) *100,2)  # This shows how much % data is missing.=> 19.87 => approx 20%  age data missing."
   ]
  },
  {
   "cell_type": "code",
   "execution_count": 301,
   "id": "c7cae230",
   "metadata": {},
   "outputs": [
    {
     "data": {
      "text/html": [
       "<div>\n",
       "<style scoped>\n",
       "    .dataframe tbody tr th:only-of-type {\n",
       "        vertical-align: middle;\n",
       "    }\n",
       "\n",
       "    .dataframe tbody tr th {\n",
       "        vertical-align: top;\n",
       "    }\n",
       "\n",
       "    .dataframe thead th {\n",
       "        text-align: right;\n",
       "    }\n",
       "</style>\n",
       "<table border=\"1\" class=\"dataframe\">\n",
       "  <thead>\n",
       "    <tr style=\"text-align: right;\">\n",
       "      <th></th>\n",
       "      <th>age</th>\n",
       "      <th>pclass</th>\n",
       "      <th>sibsp</th>\n",
       "    </tr>\n",
       "  </thead>\n",
       "  <tbody>\n",
       "    <tr>\n",
       "      <th>0</th>\n",
       "      <td>22.0</td>\n",
       "      <td>3.0</td>\n",
       "      <td>1.0</td>\n",
       "    </tr>\n",
       "    <tr>\n",
       "      <th>1</th>\n",
       "      <td>38.0</td>\n",
       "      <td>1.0</td>\n",
       "      <td>1.0</td>\n",
       "    </tr>\n",
       "  </tbody>\n",
       "</table>\n",
       "</div>"
      ],
      "text/plain": [
       "    age  pclass  sibsp\n",
       "0  22.0     3.0    1.0\n",
       "1  38.0     1.0    1.0"
      ]
     },
     "execution_count": 301,
     "metadata": {},
     "output_type": "execute_result"
    }
   ],
   "source": [
    "# KNN Imputation\n",
    "knn_imputer = KNNImputer(n_neighbors=5)\n",
    "knn_imputed_data = knn_imputer.fit_transform(data_impute)\n",
    "knn_imputed_data = pd.DataFrame(knn_imputed_data,columns=data_impute.columns)\n",
    "knn_imputed_data.head(2)"
   ]
  },
  {
   "cell_type": "code",
   "execution_count": 302,
   "id": "13174bfa",
   "metadata": {},
   "outputs": [
    {
     "data": {
      "text/html": [
       "<div>\n",
       "<style scoped>\n",
       "    .dataframe tbody tr th:only-of-type {\n",
       "        vertical-align: middle;\n",
       "    }\n",
       "\n",
       "    .dataframe tbody tr th {\n",
       "        vertical-align: top;\n",
       "    }\n",
       "\n",
       "    .dataframe thead th {\n",
       "        text-align: right;\n",
       "    }\n",
       "</style>\n",
       "<table border=\"1\" class=\"dataframe\">\n",
       "  <thead>\n",
       "    <tr style=\"text-align: right;\">\n",
       "      <th></th>\n",
       "      <th>age</th>\n",
       "      <th>pclass</th>\n",
       "      <th>sibsp</th>\n",
       "    </tr>\n",
       "  </thead>\n",
       "  <tbody>\n",
       "    <tr>\n",
       "      <th>0</th>\n",
       "      <td>22.0</td>\n",
       "      <td>3.0</td>\n",
       "      <td>1.0</td>\n",
       "    </tr>\n",
       "    <tr>\n",
       "      <th>1</th>\n",
       "      <td>38.0</td>\n",
       "      <td>1.0</td>\n",
       "      <td>1.0</td>\n",
       "    </tr>\n",
       "  </tbody>\n",
       "</table>\n",
       "</div>"
      ],
      "text/plain": [
       "    age  pclass  sibsp\n",
       "0  22.0     3.0    1.0\n",
       "1  38.0     1.0    1.0"
      ]
     },
     "execution_count": 302,
     "metadata": {},
     "output_type": "execute_result"
    }
   ],
   "source": [
    "# Using IterativeImputer\n",
    "iter_imputer = IterativeImputer(max_iter=10, random_state=0)\n",
    "iter_imputed_data = iter_imputer.fit_transform(data_impute)\n",
    "iter_imputed_data = pd.DataFrame(iter_imputed_data,columns=data_impute.columns)\n",
    "iter_imputed_data.head(2)"
   ]
  },
  {
   "cell_type": "code",
   "execution_count": 303,
   "id": "9a57eb62",
   "metadata": {},
   "outputs": [
    {
     "name": "stdout",
     "output_type": "stream",
     "text": [
      "Mean of each of the column of age,pclass and sibsp:\n",
      "\n",
      "age       29.70\n",
      "pclass     2.31\n",
      "sibsp      0.52\n",
      "dtype: float64\n"
     ]
    },
    {
     "data": {
      "text/html": [
       "<div>\n",
       "<style scoped>\n",
       "    .dataframe tbody tr th:only-of-type {\n",
       "        vertical-align: middle;\n",
       "    }\n",
       "\n",
       "    .dataframe tbody tr th {\n",
       "        vertical-align: top;\n",
       "    }\n",
       "\n",
       "    .dataframe thead th {\n",
       "        text-align: right;\n",
       "    }\n",
       "</style>\n",
       "<table border=\"1\" class=\"dataframe\">\n",
       "  <thead>\n",
       "    <tr style=\"text-align: right;\">\n",
       "      <th></th>\n",
       "      <th>age</th>\n",
       "      <th>pclass</th>\n",
       "      <th>sibsp</th>\n",
       "    </tr>\n",
       "  </thead>\n",
       "  <tbody>\n",
       "    <tr>\n",
       "      <th>0</th>\n",
       "      <td>22.0</td>\n",
       "      <td>3</td>\n",
       "      <td>1</td>\n",
       "    </tr>\n",
       "    <tr>\n",
       "      <th>1</th>\n",
       "      <td>38.0</td>\n",
       "      <td>1</td>\n",
       "      <td>1</td>\n",
       "    </tr>\n",
       "    <tr>\n",
       "      <th>2</th>\n",
       "      <td>26.0</td>\n",
       "      <td>3</td>\n",
       "      <td>0</td>\n",
       "    </tr>\n",
       "    <tr>\n",
       "      <th>3</th>\n",
       "      <td>35.0</td>\n",
       "      <td>1</td>\n",
       "      <td>1</td>\n",
       "    </tr>\n",
       "    <tr>\n",
       "      <th>4</th>\n",
       "      <td>35.0</td>\n",
       "      <td>3</td>\n",
       "      <td>0</td>\n",
       "    </tr>\n",
       "  </tbody>\n",
       "</table>\n",
       "</div>"
      ],
      "text/plain": [
       "    age  pclass  sibsp\n",
       "0  22.0       3      1\n",
       "1  38.0       1      1\n",
       "2  26.0       3      0\n",
       "3  35.0       1      1\n",
       "4  35.0       3      0"
      ]
     },
     "execution_count": 303,
     "metadata": {},
     "output_type": "execute_result"
    }
   ],
   "source": [
    "# Using pd.fillna() (mean/median imputation)\n",
    "print(\"Mean of each of the column of age,pclass and sibsp:\\n\")\n",
    "print(np.round(data_impute.mean(),2))\n",
    "\n",
    "\n",
    "fillna_imputed_data = data_impute.fillna(np.round(data_impute.mean(),2))\n",
    "fillna_imputed_data.head()"
   ]
  },
  {
   "cell_type": "code",
   "execution_count": 304,
   "id": "2d34a127",
   "metadata": {},
   "outputs": [
    {
     "name": "stdout",
     "output_type": "stream",
     "text": [
      "Number of missing values:Before any Imputation\n",
      "age       177\n",
      "pclass      0\n",
      "sibsp       0\n",
      "dtype: int64\n",
      "Number of missing values :After Knn Imputation\n",
      "age       0\n",
      "pclass    0\n",
      "sibsp     0\n",
      "dtype: int64\n",
      "Number of missing values :After Iterative Imputation\n",
      "age       0\n",
      "pclass    0\n",
      "sibsp     0\n",
      "dtype: int64\n",
      "Number of missing values :\n",
      "age       0\n",
      "pclass    0\n",
      "sibsp     0\n",
      "dtype: int64\n",
      "Mean Absolute Error (MAE) for KNN Imputation: 59.0\n",
      "Mean Absolute Error (MAE) for MICE Imputation: 59.0\n",
      "Mean Absolute Error (MAE) for Simple Iterative Imputation: 59.0\n"
     ]
    }
   ],
   "source": [
    "from sklearn.metrics import mean_absolute_error\n",
    "\n",
    "# Convert the count of missing values in 'data_impute' DataFrame to a numpy array\n",
    "missing_values_before = np.isnan(data_impute).sum(axis=0)\n",
    "\n",
    "# Calculate the count of missing values after each imputation method\n",
    "knn_missing_values_after = np.isnan(knn_imputed_data).sum(axis=0)\n",
    "iter_missing_values_after = np.isnan(iter_imputed_data).sum(axis=0)\n",
    "fillna_missing_values_after = np.isnan(fillna_imputed_data).sum(axis=0)\n",
    "\n",
    "print(\"Number of missing values:Before any Imputation\")\n",
    "print(missing_values_before)\n",
    "\n",
    "print(\"Number of missing values :After Knn Imputation\")\n",
    "print(knn_missing_values_after)\n",
    "\n",
    "print(\"Number of missing values :After Iterative Imputation\")\n",
    "print(iter_missing_values_after)\n",
    "\n",
    "print(\"Number of missing values :\")\n",
    "print(fillna_missing_values_after)\n",
    "\n",
    "# Calculate the absolute error between the number of missing values before and after each imputation method\n",
    "absolute_error_knn = np.abs(missing_values_before - knn_missing_values_after)\n",
    "absolute_error_iter = np.abs(missing_values_before - iter_missing_values_after)\n",
    "absolute_error_fillna = np.abs(missing_values_before - fillna_missing_values_after)\n",
    "\n",
    "# Calculate the Mean Absolute Error (MAE) for each imputation method\n",
    "\n",
    "mae_knn = absolute_error_knn.mean()\n",
    "mae_mice = absolute_error_iter.mean()\n",
    "mae_site = absolute_error_fillna.mean()\n",
    "\n",
    "# Display the result\n",
    "print(\"Mean Absolute Error (MAE) for KNN Imputation:\", mae_knn)\n",
    "print(\"Mean Absolute Error (MAE) for MICE Imputation:\", mae_mice)\n",
    "print(\"Mean Absolute Error (MAE) for Simple Iterative Imputation:\", mae_site)\n"
   ]
  },
  {
   "cell_type": "markdown",
   "id": "99a54764",
   "metadata": {},
   "source": [
    "The Mean Absolute Error (MAE) for KNN Imputation, MICE Imputation, and Simple Iterative Imputation is 59.0. \n",
    "This implies that there is no difference in the number of missing values before and after imputation across the three methods. \n",
    "`All three methods appear to be equally effective in handling missing values in the dataset.`"
   ]
  },
  {
   "cell_type": "code",
   "execution_count": 305,
   "id": "01e6f6c0",
   "metadata": {},
   "outputs": [
    {
     "data": {
      "image/png": "[encoded data removed]",
      "text/plain": [
       "<Figure size 1400x700 with 4 Axes>"
      ]
     },
     "metadata": {},
     "output_type": "display_data"
    }
   ],
   "source": [
    "# Set the style for seaborn plots\n",
    "sns.set(style=\"whitegrid\")\n",
    "\n",
    "# Create a figure and subplots\n",
    "fig, axes = plt.subplots(2, 2, figsize=(14,7))\n",
    "\n",
    "# Plot the distribution of 'age' for data_impute\n",
    "sns.histplot(data_impute['age'], kde=True, ax=axes[0, 0], color='skyblue')\n",
    "axes[0, 0].set_title('Original Data')\n",
    "\n",
    "# Plot the distribution of 'age' for knn_imputed_data\n",
    "sns.histplot(knn_imputed_data['age'], kde=True, ax=axes[0, 1], color='salmon')\n",
    "axes[0, 1].set_title('KNN Imputed Data')\n",
    "\n",
    "# Plot the distribution of 'age' for iter_imputed_data\n",
    "sns.histplot(iter_imputed_data['age'], kde=True, ax=axes[1, 0], color='lightgreen')\n",
    "axes[1, 0].set_title('Iteractive Imputed Data')\n",
    "\n",
    "# Plot the distribution of 'age' for fillna_imputed_data\n",
    "sns.histplot(fillna_imputed_data['age'], kde=True, ax=axes[1, 1], color='gold')\n",
    "axes[1, 1].set_title('Fillna using mean Imputed Data')\n",
    "\n",
    "# Adjust layout\n",
    "plt.tight_layout()\n",
    "\n",
    "# Show the plot\n",
    "plt.show()"
   ]
  },
  {
   "cell_type": "code",
   "execution_count": 306,
   "id": "65eda708",
   "metadata": {},
   "outputs": [
    {
     "name": "stdout",
     "output_type": "stream",
     "text": [
      "Statistics for Original Data:\n",
      "Mean: 29.69911764705882\n",
      "Median: 28.0\n",
      "\n",
      "Statistics for KNN Imputed Data:\n",
      "Mean: 30.030105499438832\n",
      "Median: 30.0\n",
      "\n",
      "Statistics for Iterative Imputed Data:\n",
      "Mean: 29.221639715774828\n",
      "Median: 27.380717127101445\n",
      "\n",
      "Statistics for fillna Imputed Data:\n",
      "Mean: 29.69929292929293\n",
      "Median: 29.7\n"
     ]
    }
   ],
   "source": [
    "# Calculate and print the mean and median of each dataset\n",
    "print(\"Statistics for Original Data:\")\n",
    "print(\"Mean:\", data_impute['age'].mean())\n",
    "print(\"Median:\", data_impute['age'].median())\n",
    "print()\n",
    "\n",
    "print(\"Statistics for KNN Imputed Data:\")\n",
    "print(\"Mean:\", knn_imputed_data['age'].mean())\n",
    "print(\"Median:\", knn_imputed_data['age'].median())\n",
    "print()\n",
    "\n",
    "print(\"Statistics for Iterative Imputed Data:\")\n",
    "print(\"Mean:\", iter_imputed_data['age'].mean())\n",
    "print(\"Median:\", iter_imputed_data['age'].median())\n",
    "print()\n",
    "\n",
    "print(\"Statistics for fillna Imputed Data:\")\n",
    "print(\"Mean:\", fillna_imputed_data['age'].mean())\n",
    "print(\"Median:\", fillna_imputed_data['age'].median())\n"
   ]
  },
  {
   "cell_type": "code",
   "execution_count": 307,
   "id": "d8b0fcd2",
   "metadata": {},
   "outputs": [
    {
     "data": {
      "text/html": [
       "<div>\n",
       "<style scoped>\n",
       "    .dataframe tbody tr th:only-of-type {\n",
       "        vertical-align: middle;\n",
       "    }\n",
       "\n",
       "    .dataframe tbody tr th {\n",
       "        vertical-align: top;\n",
       "    }\n",
       "\n",
       "    .dataframe thead th {\n",
       "        text-align: right;\n",
       "    }\n",
       "</style>\n",
       "<table border=\"1\" class=\"dataframe\">\n",
       "  <thead>\n",
       "    <tr style=\"text-align: right;\">\n",
       "      <th></th>\n",
       "      <th>survived</th>\n",
       "      <th>pclass</th>\n",
       "      <th>sex</th>\n",
       "      <th>age</th>\n",
       "      <th>sibsp</th>\n",
       "      <th>parch</th>\n",
       "      <th>fare</th>\n",
       "      <th>embarked</th>\n",
       "    </tr>\n",
       "  </thead>\n",
       "  <tbody>\n",
       "    <tr>\n",
       "      <th>0</th>\n",
       "      <td>0</td>\n",
       "      <td>3</td>\n",
       "      <td>male</td>\n",
       "      <td>22.0</td>\n",
       "      <td>1</td>\n",
       "      <td>0</td>\n",
       "      <td>7.2500</td>\n",
       "      <td>S</td>\n",
       "    </tr>\n",
       "    <tr>\n",
       "      <th>1</th>\n",
       "      <td>1</td>\n",
       "      <td>1</td>\n",
       "      <td>female</td>\n",
       "      <td>38.0</td>\n",
       "      <td>1</td>\n",
       "      <td>0</td>\n",
       "      <td>71.2833</td>\n",
       "      <td>C</td>\n",
       "    </tr>\n",
       "    <tr>\n",
       "      <th>2</th>\n",
       "      <td>1</td>\n",
       "      <td>3</td>\n",
       "      <td>female</td>\n",
       "      <td>26.0</td>\n",
       "      <td>0</td>\n",
       "      <td>0</td>\n",
       "      <td>7.9250</td>\n",
       "      <td>S</td>\n",
       "    </tr>\n",
       "    <tr>\n",
       "      <th>3</th>\n",
       "      <td>1</td>\n",
       "      <td>1</td>\n",
       "      <td>female</td>\n",
       "      <td>35.0</td>\n",
       "      <td>1</td>\n",
       "      <td>0</td>\n",
       "      <td>53.1000</td>\n",
       "      <td>S</td>\n",
       "    </tr>\n",
       "    <tr>\n",
       "      <th>4</th>\n",
       "      <td>0</td>\n",
       "      <td>3</td>\n",
       "      <td>male</td>\n",
       "      <td>35.0</td>\n",
       "      <td>0</td>\n",
       "      <td>0</td>\n",
       "      <td>8.0500</td>\n",
       "      <td>S</td>\n",
       "    </tr>\n",
       "  </tbody>\n",
       "</table>\n",
       "</div>"
      ],
      "text/plain": [
       "   survived  pclass     sex   age  sibsp  parch     fare embarked\n",
       "0         0       3    male  22.0      1      0   7.2500        S\n",
       "1         1       1  female  38.0      1      0  71.2833        C\n",
       "2         1       3  female  26.0      0      0   7.9250        S\n",
       "3         1       1  female  35.0      1      0  53.1000        S\n",
       "4         0       3    male  35.0      0      0   8.0500        S"
      ]
     },
     "execution_count": 307,
     "metadata": {},
     "output_type": "execute_result"
    }
   ],
   "source": [
    "titanic_for_impute.head()  # Since we can see that sex and embarked are categorical lets make it into numerical using the above encoding."
   ]
  },
  {
   "cell_type": "code",
   "execution_count": 308,
   "id": "64c112c4",
   "metadata": {},
   "outputs": [
    {
     "data": {
      "text/plain": [
       "survived      0\n",
       "pclass        0\n",
       "sex           0\n",
       "age         177\n",
       "sibsp         0\n",
       "parch         0\n",
       "fare          0\n",
       "embarked      2\n",
       "dtype: int64"
      ]
     },
     "execution_count": 308,
     "metadata": {},
     "output_type": "execute_result"
    }
   ],
   "source": [
    "titanic_for_impute.isnull().sum()"
   ]
  },
  {
   "cell_type": "code",
   "execution_count": 309,
   "id": "2f9da9df",
   "metadata": {},
   "outputs": [
    {
     "data": {
      "text/html": [
       "<div>\n",
       "<style scoped>\n",
       "    .dataframe tbody tr th:only-of-type {\n",
       "        vertical-align: middle;\n",
       "    }\n",
       "\n",
       "    .dataframe tbody tr th {\n",
       "        vertical-align: top;\n",
       "    }\n",
       "\n",
       "    .dataframe thead th {\n",
       "        text-align: right;\n",
       "    }\n",
       "</style>\n",
       "<table border=\"1\" class=\"dataframe\">\n",
       "  <thead>\n",
       "    <tr style=\"text-align: right;\">\n",
       "      <th></th>\n",
       "      <th>sex_female</th>\n",
       "      <th>sex_male</th>\n",
       "      <th>embarked_C</th>\n",
       "      <th>embarked_Q</th>\n",
       "      <th>embarked_S</th>\n",
       "    </tr>\n",
       "  </thead>\n",
       "  <tbody>\n",
       "    <tr>\n",
       "      <th>0</th>\n",
       "      <td>0.0</td>\n",
       "      <td>1.0</td>\n",
       "      <td>0.0</td>\n",
       "      <td>0.0</td>\n",
       "      <td>1.0</td>\n",
       "    </tr>\n",
       "    <tr>\n",
       "      <th>1</th>\n",
       "      <td>1.0</td>\n",
       "      <td>0.0</td>\n",
       "      <td>1.0</td>\n",
       "      <td>0.0</td>\n",
       "      <td>0.0</td>\n",
       "    </tr>\n",
       "    <tr>\n",
       "      <th>2</th>\n",
       "      <td>1.0</td>\n",
       "      <td>0.0</td>\n",
       "      <td>0.0</td>\n",
       "      <td>0.0</td>\n",
       "      <td>1.0</td>\n",
       "    </tr>\n",
       "    <tr>\n",
       "      <th>3</th>\n",
       "      <td>1.0</td>\n",
       "      <td>0.0</td>\n",
       "      <td>0.0</td>\n",
       "      <td>0.0</td>\n",
       "      <td>1.0</td>\n",
       "    </tr>\n",
       "    <tr>\n",
       "      <th>4</th>\n",
       "      <td>0.0</td>\n",
       "      <td>1.0</td>\n",
       "      <td>0.0</td>\n",
       "      <td>0.0</td>\n",
       "      <td>1.0</td>\n",
       "    </tr>\n",
       "  </tbody>\n",
       "</table>\n",
       "</div>"
      ],
      "text/plain": [
       "   sex_female  sex_male  embarked_C  embarked_Q  embarked_S\n",
       "0         0.0       1.0         0.0         0.0         1.0\n",
       "1         1.0       0.0         1.0         0.0         0.0\n",
       "2         1.0       0.0         0.0         0.0         1.0\n",
       "3         1.0       0.0         0.0         0.0         1.0\n",
       "4         0.0       1.0         0.0         0.0         1.0"
      ]
     },
     "execution_count": 309,
     "metadata": {},
     "output_type": "execute_result"
    }
   ],
   "source": [
    "# We already have sex_embarked dataframe\n",
    "sex_embarked_df.head()"
   ]
  },
  {
   "cell_type": "code",
   "execution_count": 310,
   "id": "7a4becd8",
   "metadata": {},
   "outputs": [
    {
     "data": {
      "text/html": [
       "<div>\n",
       "<style scoped>\n",
       "    .dataframe tbody tr th:only-of-type {\n",
       "        vertical-align: middle;\n",
       "    }\n",
       "\n",
       "    .dataframe tbody tr th {\n",
       "        vertical-align: top;\n",
       "    }\n",
       "\n",
       "    .dataframe thead th {\n",
       "        text-align: right;\n",
       "    }\n",
       "</style>\n",
       "<table border=\"1\" class=\"dataframe\">\n",
       "  <thead>\n",
       "    <tr style=\"text-align: right;\">\n",
       "      <th></th>\n",
       "      <th>survived</th>\n",
       "      <th>pclass</th>\n",
       "      <th>sex</th>\n",
       "      <th>age</th>\n",
       "      <th>sibsp</th>\n",
       "      <th>parch</th>\n",
       "      <th>fare</th>\n",
       "      <th>embarked</th>\n",
       "      <th>sex_female</th>\n",
       "      <th>sex_male</th>\n",
       "      <th>embarked_C</th>\n",
       "      <th>embarked_Q</th>\n",
       "      <th>embarked_S</th>\n",
       "    </tr>\n",
       "  </thead>\n",
       "  <tbody>\n",
       "    <tr>\n",
       "      <th>0</th>\n",
       "      <td>0</td>\n",
       "      <td>3</td>\n",
       "      <td>male</td>\n",
       "      <td>22.0</td>\n",
       "      <td>1</td>\n",
       "      <td>0</td>\n",
       "      <td>7.2500</td>\n",
       "      <td>S</td>\n",
       "      <td>0.0</td>\n",
       "      <td>1.0</td>\n",
       "      <td>0.0</td>\n",
       "      <td>0.0</td>\n",
       "      <td>1.0</td>\n",
       "    </tr>\n",
       "    <tr>\n",
       "      <th>1</th>\n",
       "      <td>1</td>\n",
       "      <td>1</td>\n",
       "      <td>female</td>\n",
       "      <td>38.0</td>\n",
       "      <td>1</td>\n",
       "      <td>0</td>\n",
       "      <td>71.2833</td>\n",
       "      <td>C</td>\n",
       "      <td>1.0</td>\n",
       "      <td>0.0</td>\n",
       "      <td>1.0</td>\n",
       "      <td>0.0</td>\n",
       "      <td>0.0</td>\n",
       "    </tr>\n",
       "    <tr>\n",
       "      <th>2</th>\n",
       "      <td>1</td>\n",
       "      <td>3</td>\n",
       "      <td>female</td>\n",
       "      <td>26.0</td>\n",
       "      <td>0</td>\n",
       "      <td>0</td>\n",
       "      <td>7.9250</td>\n",
       "      <td>S</td>\n",
       "      <td>1.0</td>\n",
       "      <td>0.0</td>\n",
       "      <td>0.0</td>\n",
       "      <td>0.0</td>\n",
       "      <td>1.0</td>\n",
       "    </tr>\n",
       "    <tr>\n",
       "      <th>3</th>\n",
       "      <td>1</td>\n",
       "      <td>1</td>\n",
       "      <td>female</td>\n",
       "      <td>35.0</td>\n",
       "      <td>1</td>\n",
       "      <td>0</td>\n",
       "      <td>53.1000</td>\n",
       "      <td>S</td>\n",
       "      <td>1.0</td>\n",
       "      <td>0.0</td>\n",
       "      <td>0.0</td>\n",
       "      <td>0.0</td>\n",
       "      <td>1.0</td>\n",
       "    </tr>\n",
       "    <tr>\n",
       "      <th>4</th>\n",
       "      <td>0</td>\n",
       "      <td>3</td>\n",
       "      <td>male</td>\n",
       "      <td>35.0</td>\n",
       "      <td>0</td>\n",
       "      <td>0</td>\n",
       "      <td>8.0500</td>\n",
       "      <td>S</td>\n",
       "      <td>0.0</td>\n",
       "      <td>1.0</td>\n",
       "      <td>0.0</td>\n",
       "      <td>0.0</td>\n",
       "      <td>1.0</td>\n",
       "    </tr>\n",
       "  </tbody>\n",
       "</table>\n",
       "</div>"
      ],
      "text/plain": [
       "   survived  pclass     sex   age  sibsp  parch     fare embarked  sex_female  \\\n",
       "0         0       3    male  22.0      1      0   7.2500        S         0.0   \n",
       "1         1       1  female  38.0      1      0  71.2833        C         1.0   \n",
       "2         1       3  female  26.0      0      0   7.9250        S         1.0   \n",
       "3         1       1  female  35.0      1      0  53.1000        S         1.0   \n",
       "4         0       3    male  35.0      0      0   8.0500        S         0.0   \n",
       "\n",
       "   sex_male  embarked_C  embarked_Q  embarked_S  \n",
       "0       1.0         0.0         0.0         1.0  \n",
       "1       0.0         1.0         0.0         0.0  \n",
       "2       0.0         0.0         0.0         1.0  \n",
       "3       0.0         0.0         0.0         1.0  \n",
       "4       1.0         0.0         0.0         1.0  "
      ]
     },
     "execution_count": 310,
     "metadata": {},
     "output_type": "execute_result"
    }
   ],
   "source": [
    "# Concatenate the original titanic_for_impute DataFrame with the encoded DataFrame\n",
    "titanic_final = pd.concat([titanic_for_impute, sex_embarked_df], axis=1)\n",
    "titanic_final.head()\n"
   ]
  },
  {
   "cell_type": "code",
   "execution_count": 311,
   "id": "1b114105",
   "metadata": {},
   "outputs": [
    {
     "data": {
      "text/html": [
       "<div>\n",
       "<style scoped>\n",
       "    .dataframe tbody tr th:only-of-type {\n",
       "        vertical-align: middle;\n",
       "    }\n",
       "\n",
       "    .dataframe tbody tr th {\n",
       "        vertical-align: top;\n",
       "    }\n",
       "\n",
       "    .dataframe thead th {\n",
       "        text-align: right;\n",
       "    }\n",
       "</style>\n",
       "<table border=\"1\" class=\"dataframe\">\n",
       "  <thead>\n",
       "    <tr style=\"text-align: right;\">\n",
       "      <th></th>\n",
       "      <th>survived</th>\n",
       "      <th>pclass</th>\n",
       "      <th>age</th>\n",
       "      <th>sibsp</th>\n",
       "      <th>parch</th>\n",
       "      <th>fare</th>\n",
       "      <th>sex_female</th>\n",
       "      <th>sex_male</th>\n",
       "      <th>embarked_C</th>\n",
       "      <th>embarked_Q</th>\n",
       "      <th>embarked_S</th>\n",
       "    </tr>\n",
       "  </thead>\n",
       "  <tbody>\n",
       "    <tr>\n",
       "      <th>0</th>\n",
       "      <td>0</td>\n",
       "      <td>3</td>\n",
       "      <td>22.0</td>\n",
       "      <td>1</td>\n",
       "      <td>0</td>\n",
       "      <td>7.2500</td>\n",
       "      <td>0.0</td>\n",
       "      <td>1.0</td>\n",
       "      <td>0.0</td>\n",
       "      <td>0.0</td>\n",
       "      <td>1.0</td>\n",
       "    </tr>\n",
       "    <tr>\n",
       "      <th>1</th>\n",
       "      <td>1</td>\n",
       "      <td>1</td>\n",
       "      <td>38.0</td>\n",
       "      <td>1</td>\n",
       "      <td>0</td>\n",
       "      <td>71.2833</td>\n",
       "      <td>1.0</td>\n",
       "      <td>0.0</td>\n",
       "      <td>1.0</td>\n",
       "      <td>0.0</td>\n",
       "      <td>0.0</td>\n",
       "    </tr>\n",
       "    <tr>\n",
       "      <th>2</th>\n",
       "      <td>1</td>\n",
       "      <td>3</td>\n",
       "      <td>26.0</td>\n",
       "      <td>0</td>\n",
       "      <td>0</td>\n",
       "      <td>7.9250</td>\n",
       "      <td>1.0</td>\n",
       "      <td>0.0</td>\n",
       "      <td>0.0</td>\n",
       "      <td>0.0</td>\n",
       "      <td>1.0</td>\n",
       "    </tr>\n",
       "    <tr>\n",
       "      <th>3</th>\n",
       "      <td>1</td>\n",
       "      <td>1</td>\n",
       "      <td>35.0</td>\n",
       "      <td>1</td>\n",
       "      <td>0</td>\n",
       "      <td>53.1000</td>\n",
       "      <td>1.0</td>\n",
       "      <td>0.0</td>\n",
       "      <td>0.0</td>\n",
       "      <td>0.0</td>\n",
       "      <td>1.0</td>\n",
       "    </tr>\n",
       "    <tr>\n",
       "      <th>4</th>\n",
       "      <td>0</td>\n",
       "      <td>3</td>\n",
       "      <td>35.0</td>\n",
       "      <td>0</td>\n",
       "      <td>0</td>\n",
       "      <td>8.0500</td>\n",
       "      <td>0.0</td>\n",
       "      <td>1.0</td>\n",
       "      <td>0.0</td>\n",
       "      <td>0.0</td>\n",
       "      <td>1.0</td>\n",
       "    </tr>\n",
       "  </tbody>\n",
       "</table>\n",
       "</div>"
      ],
      "text/plain": [
       "   survived  pclass   age  sibsp  parch     fare  sex_female  sex_male  \\\n",
       "0         0       3  22.0      1      0   7.2500         0.0       1.0   \n",
       "1         1       1  38.0      1      0  71.2833         1.0       0.0   \n",
       "2         1       3  26.0      0      0   7.9250         1.0       0.0   \n",
       "3         1       1  35.0      1      0  53.1000         1.0       0.0   \n",
       "4         0       3  35.0      0      0   8.0500         0.0       1.0   \n",
       "\n",
       "   embarked_C  embarked_Q  embarked_S  \n",
       "0         0.0         0.0         1.0  \n",
       "1         1.0         0.0         0.0  \n",
       "2         0.0         0.0         1.0  \n",
       "3         0.0         0.0         1.0  \n",
       "4         0.0         0.0         1.0  "
      ]
     },
     "execution_count": 311,
     "metadata": {},
     "output_type": "execute_result"
    }
   ],
   "source": [
    "# Lets drop the sex and embarked columns..\n",
    "\n",
    "titanic_final= titanic_final.drop(columns=['sex','embarked'],axis=1)\n",
    "titanic_final.head()"
   ]
  },
  {
   "cell_type": "code",
   "execution_count": 312,
   "id": "9ad51e7c",
   "metadata": {},
   "outputs": [
    {
     "data": {
      "text/plain": [
       "survived        0\n",
       "pclass          0\n",
       "age           177\n",
       "sibsp           0\n",
       "parch           0\n",
       "fare            0\n",
       "sex_female      0\n",
       "sex_male        0\n",
       "embarked_C      0\n",
       "embarked_Q      0\n",
       "embarked_S      0\n",
       "dtype: int64"
      ]
     },
     "execution_count": 312,
     "metadata": {},
     "output_type": "execute_result"
    }
   ],
   "source": [
    "titanic_final.isnull().sum()  # Still age has null values so better to remove all 3 columns and concatenate the new imputed columns."
   ]
  },
  {
   "cell_type": "code",
   "execution_count": 313,
   "id": "8c9b7e41",
   "metadata": {},
   "outputs": [],
   "source": [
    "titanic_final.drop(columns=['age','pclass','sibsp'],inplace=True)"
   ]
  },
  {
   "cell_type": "code",
   "execution_count": 314,
   "id": "9ef0cad3",
   "metadata": {},
   "outputs": [
    {
     "data": {
      "text/html": [
       "<div>\n",
       "<style scoped>\n",
       "    .dataframe tbody tr th:only-of-type {\n",
       "        vertical-align: middle;\n",
       "    }\n",
       "\n",
       "    .dataframe tbody tr th {\n",
       "        vertical-align: top;\n",
       "    }\n",
       "\n",
       "    .dataframe thead th {\n",
       "        text-align: right;\n",
       "    }\n",
       "</style>\n",
       "<table border=\"1\" class=\"dataframe\">\n",
       "  <thead>\n",
       "    <tr style=\"text-align: right;\">\n",
       "      <th></th>\n",
       "      <th>survived</th>\n",
       "      <th>parch</th>\n",
       "      <th>fare</th>\n",
       "      <th>sex_female</th>\n",
       "      <th>sex_male</th>\n",
       "      <th>embarked_C</th>\n",
       "      <th>embarked_Q</th>\n",
       "      <th>embarked_S</th>\n",
       "    </tr>\n",
       "  </thead>\n",
       "  <tbody>\n",
       "    <tr>\n",
       "      <th>0</th>\n",
       "      <td>0</td>\n",
       "      <td>0</td>\n",
       "      <td>7.2500</td>\n",
       "      <td>0.0</td>\n",
       "      <td>1.0</td>\n",
       "      <td>0.0</td>\n",
       "      <td>0.0</td>\n",
       "      <td>1.0</td>\n",
       "    </tr>\n",
       "    <tr>\n",
       "      <th>1</th>\n",
       "      <td>1</td>\n",
       "      <td>0</td>\n",
       "      <td>71.2833</td>\n",
       "      <td>1.0</td>\n",
       "      <td>0.0</td>\n",
       "      <td>1.0</td>\n",
       "      <td>0.0</td>\n",
       "      <td>0.0</td>\n",
       "    </tr>\n",
       "  </tbody>\n",
       "</table>\n",
       "</div>"
      ],
      "text/plain": [
       "   survived  parch     fare  sex_female  sex_male  embarked_C  embarked_Q  \\\n",
       "0         0      0   7.2500         0.0       1.0         0.0         0.0   \n",
       "1         1      0  71.2833         1.0       0.0         1.0         0.0   \n",
       "\n",
       "   embarked_S  \n",
       "0         1.0  \n",
       "1         0.0  "
      ]
     },
     "execution_count": 314,
     "metadata": {},
     "output_type": "execute_result"
    }
   ],
   "source": [
    "titanic_final.head(2)"
   ]
  },
  {
   "cell_type": "code",
   "execution_count": 315,
   "id": "65b49a7d",
   "metadata": {},
   "outputs": [
    {
     "data": {
      "text/html": [
       "<div>\n",
       "<style scoped>\n",
       "    .dataframe tbody tr th:only-of-type {\n",
       "        vertical-align: middle;\n",
       "    }\n",
       "\n",
       "    .dataframe tbody tr th {\n",
       "        vertical-align: top;\n",
       "    }\n",
       "\n",
       "    .dataframe thead th {\n",
       "        text-align: right;\n",
       "    }\n",
       "</style>\n",
       "<table border=\"1\" class=\"dataframe\">\n",
       "  <thead>\n",
       "    <tr style=\"text-align: right;\">\n",
       "      <th></th>\n",
       "      <th>survived</th>\n",
       "      <th>parch</th>\n",
       "      <th>fare</th>\n",
       "      <th>sex_female</th>\n",
       "      <th>sex_male</th>\n",
       "      <th>embarked_C</th>\n",
       "      <th>embarked_Q</th>\n",
       "      <th>embarked_S</th>\n",
       "      <th>age</th>\n",
       "      <th>pclass</th>\n",
       "      <th>sibsp</th>\n",
       "    </tr>\n",
       "  </thead>\n",
       "  <tbody>\n",
       "    <tr>\n",
       "      <th>0</th>\n",
       "      <td>0</td>\n",
       "      <td>0</td>\n",
       "      <td>7.2500</td>\n",
       "      <td>0.0</td>\n",
       "      <td>1.0</td>\n",
       "      <td>0.0</td>\n",
       "      <td>0.0</td>\n",
       "      <td>1.0</td>\n",
       "      <td>22.0</td>\n",
       "      <td>3.0</td>\n",
       "      <td>1.0</td>\n",
       "    </tr>\n",
       "    <tr>\n",
       "      <th>1</th>\n",
       "      <td>1</td>\n",
       "      <td>0</td>\n",
       "      <td>71.2833</td>\n",
       "      <td>1.0</td>\n",
       "      <td>0.0</td>\n",
       "      <td>1.0</td>\n",
       "      <td>0.0</td>\n",
       "      <td>0.0</td>\n",
       "      <td>38.0</td>\n",
       "      <td>1.0</td>\n",
       "      <td>1.0</td>\n",
       "    </tr>\n",
       "    <tr>\n",
       "      <th>2</th>\n",
       "      <td>1</td>\n",
       "      <td>0</td>\n",
       "      <td>7.9250</td>\n",
       "      <td>1.0</td>\n",
       "      <td>0.0</td>\n",
       "      <td>0.0</td>\n",
       "      <td>0.0</td>\n",
       "      <td>1.0</td>\n",
       "      <td>26.0</td>\n",
       "      <td>3.0</td>\n",
       "      <td>0.0</td>\n",
       "    </tr>\n",
       "    <tr>\n",
       "      <th>3</th>\n",
       "      <td>1</td>\n",
       "      <td>0</td>\n",
       "      <td>53.1000</td>\n",
       "      <td>1.0</td>\n",
       "      <td>0.0</td>\n",
       "      <td>0.0</td>\n",
       "      <td>0.0</td>\n",
       "      <td>1.0</td>\n",
       "      <td>35.0</td>\n",
       "      <td>1.0</td>\n",
       "      <td>1.0</td>\n",
       "    </tr>\n",
       "    <tr>\n",
       "      <th>4</th>\n",
       "      <td>0</td>\n",
       "      <td>0</td>\n",
       "      <td>8.0500</td>\n",
       "      <td>0.0</td>\n",
       "      <td>1.0</td>\n",
       "      <td>0.0</td>\n",
       "      <td>0.0</td>\n",
       "      <td>1.0</td>\n",
       "      <td>35.0</td>\n",
       "      <td>3.0</td>\n",
       "      <td>0.0</td>\n",
       "    </tr>\n",
       "  </tbody>\n",
       "</table>\n",
       "</div>"
      ],
      "text/plain": [
       "   survived  parch     fare  sex_female  sex_male  embarked_C  embarked_Q  \\\n",
       "0         0      0   7.2500         0.0       1.0         0.0         0.0   \n",
       "1         1      0  71.2833         1.0       0.0         1.0         0.0   \n",
       "2         1      0   7.9250         1.0       0.0         0.0         0.0   \n",
       "3         1      0  53.1000         1.0       0.0         0.0         0.0   \n",
       "4         0      0   8.0500         0.0       1.0         0.0         0.0   \n",
       "\n",
       "   embarked_S   age  pclass  sibsp  \n",
       "0         1.0  22.0     3.0    1.0  \n",
       "1         0.0  38.0     1.0    1.0  \n",
       "2         1.0  26.0     3.0    0.0  \n",
       "3         1.0  35.0     1.0    1.0  \n",
       "4         1.0  35.0     3.0    0.0  "
      ]
     },
     "execution_count": 315,
     "metadata": {},
     "output_type": "execute_result"
    }
   ],
   "source": [
    "# Lets concate the newly imputed data wiht this existing titanic_df.\n",
    "\n",
    "titanic_df = pd.concat([titanic_final, iter_imputed_data], axis=1)\n",
    "\n",
    "titanic_df.head()"
   ]
  },
  {
   "cell_type": "code",
   "execution_count": 316,
   "id": "b70e44b1",
   "metadata": {},
   "outputs": [
    {
     "data": {
      "text/plain": [
       "survived      0\n",
       "parch         0\n",
       "fare          0\n",
       "sex_female    0\n",
       "sex_male      0\n",
       "embarked_C    0\n",
       "embarked_Q    0\n",
       "embarked_S    0\n",
       "dtype: int64"
      ]
     },
     "execution_count": 316,
     "metadata": {},
     "output_type": "execute_result"
    }
   ],
   "source": [
    "titanic_final.isnull().sum()   # Now We have Handled the Missing Values Very Mindfully...Lets Proceed to Next Steps..."
   ]
  },
  {
   "cell_type": "markdown",
   "id": "f7359277",
   "metadata": {},
   "source": [
    "**DONE:Handling Missing Values Done.Now NO MISSING VALUES ARE THERE IN THE DATASET**\n",
    "\n",
    "\n",
    "Therefore :\n",
    "* IF we consider mean/medain as not nan : titanic_df will be the final dataframe after imputation using simpleimputer and one hot encoding.\n",
    "* IF we consider mean/medain as nan : titanic_final will be the final dataframe after imputation(knn_impuation , iterative imputation and pandas fillna with mean) and encoding using one hot encoding.\n",
    "\n",
    "------------------------------------------------------------------------------------------------------------"
   ]
  },
  {
   "cell_type": "code",
   "execution_count": 317,
   "id": "0ef4511c",
   "metadata": {},
   "outputs": [
    {
     "data": {
      "text/html": [
       "<div>\n",
       "<style scoped>\n",
       "    .dataframe tbody tr th:only-of-type {\n",
       "        vertical-align: middle;\n",
       "    }\n",
       "\n",
       "    .dataframe tbody tr th {\n",
       "        vertical-align: top;\n",
       "    }\n",
       "\n",
       "    .dataframe thead th {\n",
       "        text-align: right;\n",
       "    }\n",
       "</style>\n",
       "<table border=\"1\" class=\"dataframe\">\n",
       "  <thead>\n",
       "    <tr style=\"text-align: right;\">\n",
       "      <th></th>\n",
       "      <th>survived</th>\n",
       "      <th>parch</th>\n",
       "      <th>fare</th>\n",
       "      <th>sex_female</th>\n",
       "      <th>sex_male</th>\n",
       "      <th>embarked_C</th>\n",
       "      <th>embarked_Q</th>\n",
       "      <th>embarked_S</th>\n",
       "      <th>age</th>\n",
       "      <th>pclass</th>\n",
       "      <th>sibsp</th>\n",
       "    </tr>\n",
       "  </thead>\n",
       "  <tbody>\n",
       "    <tr>\n",
       "      <th>0</th>\n",
       "      <td>0</td>\n",
       "      <td>0</td>\n",
       "      <td>7.2500</td>\n",
       "      <td>0.0</td>\n",
       "      <td>1.0</td>\n",
       "      <td>0.0</td>\n",
       "      <td>0.0</td>\n",
       "      <td>1.0</td>\n",
       "      <td>22.000000</td>\n",
       "      <td>3.0</td>\n",
       "      <td>1.0</td>\n",
       "    </tr>\n",
       "    <tr>\n",
       "      <th>1</th>\n",
       "      <td>1</td>\n",
       "      <td>0</td>\n",
       "      <td>71.2833</td>\n",
       "      <td>1.0</td>\n",
       "      <td>0.0</td>\n",
       "      <td>1.0</td>\n",
       "      <td>0.0</td>\n",
       "      <td>0.0</td>\n",
       "      <td>38.000000</td>\n",
       "      <td>1.0</td>\n",
       "      <td>1.0</td>\n",
       "    </tr>\n",
       "    <tr>\n",
       "      <th>2</th>\n",
       "      <td>1</td>\n",
       "      <td>0</td>\n",
       "      <td>7.9250</td>\n",
       "      <td>1.0</td>\n",
       "      <td>0.0</td>\n",
       "      <td>0.0</td>\n",
       "      <td>0.0</td>\n",
       "      <td>1.0</td>\n",
       "      <td>26.000000</td>\n",
       "      <td>3.0</td>\n",
       "      <td>0.0</td>\n",
       "    </tr>\n",
       "    <tr>\n",
       "      <th>3</th>\n",
       "      <td>1</td>\n",
       "      <td>0</td>\n",
       "      <td>53.1000</td>\n",
       "      <td>1.0</td>\n",
       "      <td>0.0</td>\n",
       "      <td>0.0</td>\n",
       "      <td>0.0</td>\n",
       "      <td>1.0</td>\n",
       "      <td>35.000000</td>\n",
       "      <td>1.0</td>\n",
       "      <td>1.0</td>\n",
       "    </tr>\n",
       "    <tr>\n",
       "      <th>4</th>\n",
       "      <td>0</td>\n",
       "      <td>0</td>\n",
       "      <td>8.0500</td>\n",
       "      <td>0.0</td>\n",
       "      <td>1.0</td>\n",
       "      <td>0.0</td>\n",
       "      <td>0.0</td>\n",
       "      <td>1.0</td>\n",
       "      <td>35.000000</td>\n",
       "      <td>3.0</td>\n",
       "      <td>0.0</td>\n",
       "    </tr>\n",
       "    <tr>\n",
       "      <th>...</th>\n",
       "      <td>...</td>\n",
       "      <td>...</td>\n",
       "      <td>...</td>\n",
       "      <td>...</td>\n",
       "      <td>...</td>\n",
       "      <td>...</td>\n",
       "      <td>...</td>\n",
       "      <td>...</td>\n",
       "      <td>...</td>\n",
       "      <td>...</td>\n",
       "      <td>...</td>\n",
       "    </tr>\n",
       "    <tr>\n",
       "      <th>886</th>\n",
       "      <td>0</td>\n",
       "      <td>0</td>\n",
       "      <td>13.0000</td>\n",
       "      <td>0.0</td>\n",
       "      <td>1.0</td>\n",
       "      <td>0.0</td>\n",
       "      <td>0.0</td>\n",
       "      <td>1.0</td>\n",
       "      <td>27.000000</td>\n",
       "      <td>2.0</td>\n",
       "      <td>0.0</td>\n",
       "    </tr>\n",
       "    <tr>\n",
       "      <th>887</th>\n",
       "      <td>1</td>\n",
       "      <td>0</td>\n",
       "      <td>30.0000</td>\n",
       "      <td>1.0</td>\n",
       "      <td>0.0</td>\n",
       "      <td>0.0</td>\n",
       "      <td>0.0</td>\n",
       "      <td>1.0</td>\n",
       "      <td>19.000000</td>\n",
       "      <td>1.0</td>\n",
       "      <td>0.0</td>\n",
       "    </tr>\n",
       "    <tr>\n",
       "      <th>888</th>\n",
       "      <td>0</td>\n",
       "      <td>2</td>\n",
       "      <td>23.4500</td>\n",
       "      <td>1.0</td>\n",
       "      <td>0.0</td>\n",
       "      <td>0.0</td>\n",
       "      <td>0.0</td>\n",
       "      <td>1.0</td>\n",
       "      <td>22.970765</td>\n",
       "      <td>3.0</td>\n",
       "      <td>1.0</td>\n",
       "    </tr>\n",
       "    <tr>\n",
       "      <th>889</th>\n",
       "      <td>1</td>\n",
       "      <td>0</td>\n",
       "      <td>30.0000</td>\n",
       "      <td>0.0</td>\n",
       "      <td>1.0</td>\n",
       "      <td>1.0</td>\n",
       "      <td>0.0</td>\n",
       "      <td>0.0</td>\n",
       "      <td>26.000000</td>\n",
       "      <td>1.0</td>\n",
       "      <td>0.0</td>\n",
       "    </tr>\n",
       "    <tr>\n",
       "      <th>890</th>\n",
       "      <td>0</td>\n",
       "      <td>0</td>\n",
       "      <td>7.7500</td>\n",
       "      <td>0.0</td>\n",
       "      <td>1.0</td>\n",
       "      <td>0.0</td>\n",
       "      <td>1.0</td>\n",
       "      <td>0.0</td>\n",
       "      <td>32.000000</td>\n",
       "      <td>3.0</td>\n",
       "      <td>0.0</td>\n",
       "    </tr>\n",
       "  </tbody>\n",
       "</table>\n",
       "<p>891 rows × 11 columns</p>\n",
       "</div>"
      ],
      "text/plain": [
       "     survived  parch     fare  sex_female  sex_male  embarked_C  embarked_Q  \\\n",
       "0           0      0   7.2500         0.0       1.0         0.0         0.0   \n",
       "1           1      0  71.2833         1.0       0.0         1.0         0.0   \n",
       "2           1      0   7.9250         1.0       0.0         0.0         0.0   \n",
       "3           1      0  53.1000         1.0       0.0         0.0         0.0   \n",
       "4           0      0   8.0500         0.0       1.0         0.0         0.0   \n",
       "..        ...    ...      ...         ...       ...         ...         ...   \n",
       "886         0      0  13.0000         0.0       1.0         0.0         0.0   \n",
       "887         1      0  30.0000         1.0       0.0         0.0         0.0   \n",
       "888         0      2  23.4500         1.0       0.0         0.0         0.0   \n",
       "889         1      0  30.0000         0.0       1.0         1.0         0.0   \n",
       "890         0      0   7.7500         0.0       1.0         0.0         1.0   \n",
       "\n",
       "     embarked_S        age  pclass  sibsp  \n",
       "0           1.0  22.000000     3.0    1.0  \n",
       "1           0.0  38.000000     1.0    1.0  \n",
       "2           1.0  26.000000     3.0    0.0  \n",
       "3           1.0  35.000000     1.0    1.0  \n",
       "4           1.0  35.000000     3.0    0.0  \n",
       "..          ...        ...     ...    ...  \n",
       "886         1.0  27.000000     2.0    0.0  \n",
       "887         1.0  19.000000     1.0    0.0  \n",
       "888         1.0  22.970765     3.0    1.0  \n",
       "889         0.0  26.000000     1.0    0.0  \n",
       "890         0.0  32.000000     3.0    0.0  \n",
       "\n",
       "[891 rows x 11 columns]"
      ]
     },
     "execution_count": 317,
     "metadata": {},
     "output_type": "execute_result"
    }
   ],
   "source": [
    "# Continue....\n",
    "\n",
    "# We will take the titanic_df as final here...lets resume..\n",
    "titanic_df"
   ]
  },
  {
   "cell_type": "code",
   "execution_count": 318,
   "id": "237c35ee",
   "metadata": {},
   "outputs": [
    {
     "name": "stdout",
     "output_type": "stream",
     "text": [
      "<class 'pandas.core.frame.DataFrame'>\n",
      "RangeIndex: 891 entries, 0 to 890\n",
      "Data columns (total 11 columns):\n",
      " #   Column      Non-Null Count  Dtype  \n",
      "---  ------      --------------  -----  \n",
      " 0   survived    891 non-null    int64  \n",
      " 1   parch       891 non-null    int64  \n",
      " 2   fare        891 non-null    float64\n",
      " 3   sex_female  891 non-null    float64\n",
      " 4   sex_male    891 non-null    float64\n",
      " 5   embarked_C  891 non-null    float64\n",
      " 6   embarked_Q  891 non-null    float64\n",
      " 7   embarked_S  891 non-null    float64\n",
      " 8   age         891 non-null    float64\n",
      " 9   pclass      891 non-null    float64\n",
      " 10  sibsp       891 non-null    float64\n",
      "dtypes: float64(9), int64(2)\n",
      "memory usage: 76.7 KB\n"
     ]
    }
   ],
   "source": [
    "titanic_df.info()"
   ]
  },
  {
   "cell_type": "code",
   "execution_count": 319,
   "id": "46c23d6e",
   "metadata": {},
   "outputs": [
    {
     "data": {
      "text/plain": [
       "survived      0\n",
       "parch         0\n",
       "fare          0\n",
       "sex_female    0\n",
       "sex_male      0\n",
       "embarked_C    0\n",
       "embarked_Q    0\n",
       "embarked_S    0\n",
       "age           0\n",
       "pclass        0\n",
       "sibsp         0\n",
       "dtype: int64"
      ]
     },
     "execution_count": 319,
     "metadata": {},
     "output_type": "execute_result"
    }
   ],
   "source": [
    "titanic_df.isnull().sum()"
   ]
  },
  {
   "cell_type": "code",
   "execution_count": 320,
   "id": "b8253500",
   "metadata": {},
   "outputs": [
    {
     "name": "stdout",
     "output_type": "stream",
     "text": [
      "<class 'pandas.core.frame.DataFrame'>\n",
      "RangeIndex: 891 entries, 0 to 890\n",
      "Data columns (total 8 columns):\n",
      " #   Column    Non-Null Count  Dtype  \n",
      "---  ------    --------------  -----  \n",
      " 0   survived  891 non-null    int64  \n",
      " 1   pclass    891 non-null    int64  \n",
      " 2   sex       891 non-null    object \n",
      " 3   age       891 non-null    float64\n",
      " 4   sibsp     891 non-null    int64  \n",
      " 5   parch     891 non-null    int64  \n",
      " 6   fare      891 non-null    float64\n",
      " 7   embarked  891 non-null    object \n",
      "dtypes: float64(2), int64(4), object(2)\n",
      "memory usage: 55.8+ KB\n"
     ]
    }
   ],
   "source": [
    "titanic.info()  # Thsi  is also having no null values but here the data is not encoded...so if we want to do further Exploratory data analysis we can do that to..."
   ]
  },
  {
   "cell_type": "code",
   "execution_count": null,
   "id": "9fb238e4",
   "metadata": {},
   "outputs": [],
   "source": []
  },
  {
   "cell_type": "code",
   "execution_count": null,
   "id": "45d18332",
   "metadata": {},
   "outputs": [],
   "source": []
  },
  {
   "cell_type": "code",
   "execution_count": null,
   "id": "475695a3",
   "metadata": {},
   "outputs": [],
   "source": []
  },
  {
   "cell_type": "code",
   "execution_count": null,
   "id": "785f3a59",
   "metadata": {},
   "outputs": [],
   "source": []
  },
  {
   "cell_type": "code",
   "execution_count": null,
   "id": "708e49f4",
   "metadata": {},
   "outputs": [],
   "source": []
  },
  {
   "cell_type": "code",
   "execution_count": null,
   "id": "18b79b46",
   "metadata": {},
   "outputs": [],
   "source": []
  },
  {
   "cell_type": "code",
   "execution_count": null,
   "id": "488ac974",
   "metadata": {},
   "outputs": [],
   "source": []
  },
  {
   "cell_type": "code",
   "execution_count": null,
   "id": "1629f0bd",
   "metadata": {},
   "outputs": [],
   "source": []
  },
  {
   "cell_type": "code",
   "execution_count": null,
   "id": "49fa4047",
   "metadata": {},
   "outputs": [],
   "source": []
  },
  {
   "cell_type": "code",
   "execution_count": null,
   "id": "d8effce6",
   "metadata": {},
   "outputs": [],
   "source": []
  },
  {
   "cell_type": "code",
   "execution_count": null,
   "id": "b0e0aa75",
   "metadata": {},
   "outputs": [],
   "source": []
  },
  {
   "cell_type": "code",
   "execution_count": null,
   "id": "dd0633b2",
   "metadata": {},
   "outputs": [],
   "source": []
  },
  {
   "cell_type": "code",
   "execution_count": null,
   "id": "4fd3cf2c",
   "metadata": {},
   "outputs": [],
   "source": []
  },
  {
   "cell_type": "code",
   "execution_count": null,
   "id": "d9d4dc8b",
   "metadata": {},
   "outputs": [],
   "source": []
  },
  {
   "cell_type": "code",
   "execution_count": null,
   "id": "bb6613c4",
   "metadata": {},
   "outputs": [],
   "source": []
  },
  {
   "cell_type": "markdown",
   "id": "eaf8afcc",
   "metadata": {},
   "source": [
    "# Statistics Day2 Practical"
   ]
  },
  {
   "cell_type": "code",
   "execution_count": 321,
   "id": "66fb2864",
   "metadata": {},
   "outputs": [
    {
     "data": {
      "text/plain": [
       "[29, 56, 35, 20, 69, 48, 45, 49, 68, 49, 69, 28, 29, 20, 62, 60]"
      ]
     },
     "execution_count": 321,
     "metadata": {},
     "output_type": "execute_result"
    }
   ],
   "source": [
    "# Generate a random data between the range 20 to 70.\n",
    "import numpy as np\n",
    "import random\n",
    "np.random.seed(10)\n",
    "d = list(np.random.randint(20,70,16))\n",
    "d"
   ]
  },
  {
   "cell_type": "code",
   "execution_count": 322,
   "id": "3cc72534",
   "metadata": {},
   "outputs": [],
   "source": [
    "# Copy this data so that the original data will remain the same and we will do the things with the help of copied data.\n",
    "\n",
    "data = d.copy()"
   ]
  },
  {
   "cell_type": "code",
   "execution_count": 323,
   "id": "ad516339",
   "metadata": {},
   "outputs": [
    {
     "data": {
      "text/plain": [
       "[29, 56, 35, 20, 69, 48, 45, 49, 68, 49, 69, 28, 29, 20, 62, 60]"
      ]
     },
     "execution_count": 323,
     "metadata": {},
     "output_type": "execute_result"
    }
   ],
   "source": [
    "data"
   ]
  },
  {
   "cell_type": "code",
   "execution_count": 324,
   "id": "eefd2bd2",
   "metadata": {},
   "outputs": [],
   "source": [
    "data.append(12)\n"
   ]
  },
  {
   "cell_type": "code",
   "execution_count": 325,
   "id": "c1b035cd",
   "metadata": {},
   "outputs": [
    {
     "data": {
      "text/plain": [
       "[29, 56, 35, 20, 69, 48, 45, 49, 68, 49, 69, 28, 29, 20, 62, 60, 12]"
      ]
     },
     "execution_count": 325,
     "metadata": {},
     "output_type": "execute_result"
    }
   ],
   "source": [
    "data"
   ]
  },
  {
   "cell_type": "code",
   "execution_count": 326,
   "id": "b00d1371",
   "metadata": {},
   "outputs": [
    {
     "data": {
      "text/plain": [
       "[29, 56, 35, 20, 69, 48, 45, 49, 68, 49, 69, 28, 29, 20, 62, 60]"
      ]
     },
     "execution_count": 326,
     "metadata": {},
     "output_type": "execute_result"
    }
   ],
   "source": [
    "d"
   ]
  },
  {
   "cell_type": "code",
   "execution_count": 327,
   "id": "10593658",
   "metadata": {},
   "outputs": [
    {
     "data": {
      "text/plain": [
       "12"
      ]
     },
     "execution_count": 327,
     "metadata": {},
     "output_type": "execute_result"
    }
   ],
   "source": [
    "# See we have the original data as it is..and there is no change in it..lets drop this last value from copied data.\n",
    "data.pop()"
   ]
  },
  {
   "cell_type": "code",
   "execution_count": 328,
   "id": "6fb1a7b2",
   "metadata": {},
   "outputs": [
    {
     "data": {
      "text/plain": [
       "[29, 56, 35, 20, 69, 48, 45, 49, 68, 49, 69, 28, 29, 20, 62, 60]"
      ]
     },
     "execution_count": 328,
     "metadata": {},
     "output_type": "execute_result"
    }
   ],
   "source": [
    "data"
   ]
  },
  {
   "cell_type": "code",
   "execution_count": 329,
   "id": "367697d5",
   "metadata": {},
   "outputs": [],
   "source": [
    "# Now We will perform everything on it."
   ]
  },
  {
   "cell_type": "markdown",
   "id": "3321b86e",
   "metadata": {},
   "source": [
    "#### Histogram"
   ]
  },
  {
   "cell_type": "code",
   "execution_count": 330,
   "id": "e6b5ca14",
   "metadata": {},
   "outputs": [
    {
     "data": {
      "image/png": "[encoded data removed]",
      "text/plain": [
       "<Figure size 640x480 with 1 Axes>"
      ]
     },
     "metadata": {},
     "output_type": "display_data"
    }
   ],
   "source": [
    "import matplotlib.pyplot as plt\n",
    "import seaborn as sns\n",
    "sns.histplot(data,kde=True)\n",
    "plt.title(\"This is the Distribution and pdf\")\n",
    "plt.show()"
   ]
  },
  {
   "cell_type": "markdown",
   "id": "ff35393f",
   "metadata": {},
   "source": [
    "### Sorting the list elements"
   ]
  },
  {
   "cell_type": "code",
   "execution_count": 331,
   "id": "c2326262",
   "metadata": {},
   "outputs": [
    {
     "data": {
      "text/plain": [
       "[29, 56, 35, 20, 69, 48, 45, 49, 68, 49, 69, 28, 29, 20, 62, 60]"
      ]
     },
     "execution_count": 331,
     "metadata": {},
     "output_type": "execute_result"
    }
   ],
   "source": [
    "data"
   ]
  },
  {
   "cell_type": "code",
   "execution_count": 332,
   "id": "1865f33e",
   "metadata": {},
   "outputs": [],
   "source": [
    "data_1= data.copy()"
   ]
  },
  {
   "cell_type": "code",
   "execution_count": 333,
   "id": "900acbd6",
   "metadata": {},
   "outputs": [],
   "source": [
    "data_1.sort()"
   ]
  },
  {
   "cell_type": "code",
   "execution_count": 334,
   "id": "a5a532a4",
   "metadata": {},
   "outputs": [
    {
     "data": {
      "text/plain": [
       "[20, 20, 28, 29, 29, 35, 45, 48, 49, 49, 56, 60, 62, 68, 69, 69]"
      ]
     },
     "execution_count": 334,
     "metadata": {},
     "output_type": "execute_result"
    }
   ],
   "source": [
    "data_1  # This is sorted data"
   ]
  },
  {
   "cell_type": "markdown",
   "id": "bcdd065c",
   "metadata": {},
   "source": [
    "### Adding the Outliers ( Making this left skewed or Right skewed) and ploting the pdf using histplot from seaborn"
   ]
  },
  {
   "cell_type": "code",
   "execution_count": 335,
   "id": "2e9506b4",
   "metadata": {},
   "outputs": [],
   "source": [
    "# Copy data_1 to data_right_skewed \n",
    "data_right_skewed  = data_1.copy()"
   ]
  },
  {
   "cell_type": "code",
   "execution_count": 336,
   "id": "634a91cd",
   "metadata": {},
   "outputs": [],
   "source": [
    "# Lets add some high values (outliers...)\n",
    "\n",
    "data_right_skewed.append(188)\n",
    "data_right_skewed.append(200)"
   ]
  },
  {
   "cell_type": "code",
   "execution_count": 337,
   "id": "79156836",
   "metadata": {},
   "outputs": [
    {
     "data": {
      "text/plain": [
       "[20, 20, 28, 29, 29, 35, 45, 48, 49, 49, 56, 60, 62, 68, 69, 69, 188, 200]"
      ]
     },
     "execution_count": 337,
     "metadata": {},
     "output_type": "execute_result"
    }
   ],
   "source": [
    "data_right_skewed"
   ]
  },
  {
   "cell_type": "code",
   "execution_count": 338,
   "id": "3b0677c0",
   "metadata": {},
   "outputs": [
    {
     "data": {
      "image/png": "[encoded data removed]",
      "text/plain": [
       "<Figure size 640x480 with 1 Axes>"
      ]
     },
     "metadata": {},
     "output_type": "display_data"
    }
   ],
   "source": [
    "# Lets make the distribution ....with outliers.\n",
    "sns.histplot(data_right_skewed,kde=True,color='orange')\n",
    "plt.title(\"This looks Right Skewed Curve.Actually this data has Outliers\")\n",
    "plt.show()"
   ]
  },
  {
   "cell_type": "code",
   "execution_count": 339,
   "id": "5afaf18f",
   "metadata": {},
   "outputs": [
    {
     "data": {
      "text/plain": [
       "[20, 20, 28, 29, 29, 35, 45, 48, 49, 49, 56, 60, 62, 68, 69, 69]"
      ]
     },
     "execution_count": 339,
     "metadata": {},
     "output_type": "execute_result"
    }
   ],
   "source": [
    "data_1"
   ]
  },
  {
   "cell_type": "code",
   "execution_count": 340,
   "id": "dc5a49c8",
   "metadata": {},
   "outputs": [],
   "source": [
    "data_left_skewed = data_1.copy()"
   ]
  },
  {
   "cell_type": "code",
   "execution_count": 341,
   "id": "9cb2aee2",
   "metadata": {},
   "outputs": [],
   "source": [
    "# Lets create a left skewed data....\n",
    "data_left_skewed.insert(0,-10)\n",
    "data_left_skewed.insert(1,-11.2)"
   ]
  },
  {
   "cell_type": "code",
   "execution_count": 342,
   "id": "bcc1843f",
   "metadata": {},
   "outputs": [
    {
     "data": {
      "text/plain": [
       "[-10, -11.2, 20, 20, 28, 29, 29, 35, 45, 48, 49, 49, 56, 60, 62, 68, 69, 69]"
      ]
     },
     "execution_count": 342,
     "metadata": {},
     "output_type": "execute_result"
    }
   ],
   "source": [
    "data_left_skewed"
   ]
  },
  {
   "cell_type": "code",
   "execution_count": 343,
   "id": "b6208dc7",
   "metadata": {},
   "outputs": [
    {
     "data": {
      "image/png": "[encoded data removed]",
      "text/plain": [
       "<Figure size 640x480 with 1 Axes>"
      ]
     },
     "metadata": {},
     "output_type": "display_data"
    }
   ],
   "source": [
    "sns.histplot(data_left_skewed,kde=True,color='purple')\n",
    "plt.title(\"This looks like Left Skewed.Actually there are outliers there\")\n",
    "plt.show()"
   ]
  },
  {
   "cell_type": "markdown",
   "id": "4ca5dbfc",
   "metadata": {},
   "source": [
    "------------------------------------------------------------"
   ]
  },
  {
   "cell_type": "markdown",
   "id": "dd780f5a",
   "metadata": {},
   "source": [
    "## Lets Import the Dataset"
   ]
  },
  {
   "cell_type": "code",
   "execution_count": 344,
   "id": "ba9da7f8",
   "metadata": {},
   "outputs": [
    {
     "data": {
      "text/html": [
       "<div>\n",
       "<style scoped>\n",
       "    .dataframe tbody tr th:only-of-type {\n",
       "        vertical-align: middle;\n",
       "    }\n",
       "\n",
       "    .dataframe tbody tr th {\n",
       "        vertical-align: top;\n",
       "    }\n",
       "\n",
       "    .dataframe thead th {\n",
       "        text-align: right;\n",
       "    }\n",
       "</style>\n",
       "<table border=\"1\" class=\"dataframe\">\n",
       "  <thead>\n",
       "    <tr style=\"text-align: right;\">\n",
       "      <th></th>\n",
       "      <th>sepal_length</th>\n",
       "      <th>sepal_width</th>\n",
       "      <th>petal_length</th>\n",
       "      <th>petal_width</th>\n",
       "      <th>species</th>\n",
       "    </tr>\n",
       "  </thead>\n",
       "  <tbody>\n",
       "    <tr>\n",
       "      <th>0</th>\n",
       "      <td>5.1</td>\n",
       "      <td>3.5</td>\n",
       "      <td>1.4</td>\n",
       "      <td>0.2</td>\n",
       "      <td>setosa</td>\n",
       "    </tr>\n",
       "    <tr>\n",
       "      <th>1</th>\n",
       "      <td>4.9</td>\n",
       "      <td>3.0</td>\n",
       "      <td>1.4</td>\n",
       "      <td>0.2</td>\n",
       "      <td>setosa</td>\n",
       "    </tr>\n",
       "    <tr>\n",
       "      <th>2</th>\n",
       "      <td>4.7</td>\n",
       "      <td>3.2</td>\n",
       "      <td>1.3</td>\n",
       "      <td>0.2</td>\n",
       "      <td>setosa</td>\n",
       "    </tr>\n",
       "    <tr>\n",
       "      <th>3</th>\n",
       "      <td>4.6</td>\n",
       "      <td>3.1</td>\n",
       "      <td>1.5</td>\n",
       "      <td>0.2</td>\n",
       "      <td>setosa</td>\n",
       "    </tr>\n",
       "    <tr>\n",
       "      <th>4</th>\n",
       "      <td>5.0</td>\n",
       "      <td>3.6</td>\n",
       "      <td>1.4</td>\n",
       "      <td>0.2</td>\n",
       "      <td>setosa</td>\n",
       "    </tr>\n",
       "  </tbody>\n",
       "</table>\n",
       "</div>"
      ],
      "text/plain": [
       "   sepal_length  sepal_width  petal_length  petal_width species\n",
       "0           5.1          3.5           1.4          0.2  setosa\n",
       "1           4.9          3.0           1.4          0.2  setosa\n",
       "2           4.7          3.2           1.3          0.2  setosa\n",
       "3           4.6          3.1           1.5          0.2  setosa\n",
       "4           5.0          3.6           1.4          0.2  setosa"
      ]
     },
     "execution_count": 344,
     "metadata": {},
     "output_type": "execute_result"
    }
   ],
   "source": [
    "iris = pd.read_csv(\"./datasets/iris.csv\")\n",
    "iris.head()"
   ]
  },
  {
   "cell_type": "code",
   "execution_count": 345,
   "id": "1646858b",
   "metadata": {},
   "outputs": [
    {
     "data": {
      "text/plain": [
       "(150, 5)"
      ]
     },
     "execution_count": 345,
     "metadata": {},
     "output_type": "execute_result"
    }
   ],
   "source": [
    "iris.shape"
   ]
  },
  {
   "cell_type": "code",
   "execution_count": 346,
   "id": "dbffe170",
   "metadata": {},
   "outputs": [
    {
     "data": {
      "text/plain": [
       "<Axes: ylabel='Count'>"
      ]
     },
     "execution_count": 346,
     "metadata": {},
     "output_type": "execute_result"
    },
    {
     "data": {
      "image/png": "[encoded data removed]",
      "text/plain": [
       "<Figure size 640x480 with 1 Axes>"
      ]
     },
     "metadata": {},
     "output_type": "display_data"
    }
   ],
   "source": [
    "sns.histplot(iris,kde=True)  # This looks bit confusing so we will plot each of the features in subplots."
   ]
  },
  {
   "cell_type": "code",
   "execution_count": 347,
   "id": "8096243d",
   "metadata": {},
   "outputs": [
    {
     "data": {
      "image/png": "[encoded data removed]",
      "text/plain": [
       "<Figure size 1000x800 with 4 Axes>"
      ]
     },
     "metadata": {},
     "output_type": "display_data"
    }
   ],
   "source": [
    "# Create subplots\n",
    "fig, axes = plt.subplots(2, 2, figsize=(10, 8))\n",
    "\n",
    "# Plot histogram for sepal length\n",
    "sns.histplot(iris['sepal_length'], kde=True, ax=axes[0, 0],color='orange')\n",
    "axes[0, 0].set_title('Sepal Length')\n",
    "\n",
    "# Plot histogram for sepal width\n",
    "sns.histplot(iris['sepal_width'], kde=True, ax=axes[0, 1],color='green')\n",
    "axes[0, 1].set_title('Sepal Width')\n",
    "\n",
    "# Plot histogram for petal length\n",
    "sns.histplot(iris['petal_length'], kde=True, ax=axes[1, 0],color='pink')\n",
    "axes[1, 0].set_title('Petal Length')\n",
    "\n",
    "# Plot histogram for petal width\n",
    "sns.histplot(iris['petal_width'], kde=True, ax=axes[1, 1],color='purple')\n",
    "axes[1, 1].set_title('Petal Width')\n",
    "\n",
    "# Adjust layout\n",
    "plt.tight_layout()\n",
    "\n",
    "# Show plot\n",
    "plt.show()"
   ]
  },
  {
   "cell_type": "markdown",
   "id": "f0437db2",
   "metadata": {},
   "source": [
    "Conclusion : \n",
    "* sepal_length : Kind of Normally Distributed (Unimodal Curve)\n",
    "* sepal_width  : Normally Distributed  (Unimodal Curve)\n",
    "* petal_length : Bimodal Distribution ( This have some outliers thats why this looks  skewed)\n",
    "* petal_width  : Bimodal Distribution ( This have some outliers thats why this looks  skewed)"
   ]
  },
  {
   "cell_type": "markdown",
   "id": "553d7ec0",
   "metadata": {},
   "source": [
    "### Creating a Normal Distribution with Random Values"
   ]
  },
  {
   "cell_type": "code",
   "execution_count": 348,
   "id": "44c096cf",
   "metadata": {},
   "outputs": [
    {
     "data": {
      "text/plain": [
       "array([0.7663173 , 0.64305579, 0.19091994, 0.49832323, 0.62426719,\n",
       "       0.35598289, 0.55310232, 0.52170971, 0.50085829, 0.46507996,\n",
       "       0.58660524, 0.74060747, 0.30698687, 0.70565482, 0.54572603,\n",
       "       0.58902752, 0.27267956, 0.52702738, 0.7969074 , 0.28403902,\n",
       "       0.10445434, 0.15132554, 0.55321403, 0.97699347, 0.72473825,\n",
       "       0.83452444, 0.51982984, 0.77959928, 0.4457504 , 0.62264084,\n",
       "       0.44653656, 0.3901382 , 0.52654166, 0.4047716 , 0.76169462,\n",
       "       0.53900266, 0.580042  , 0.43247353, 0.75129445, 0.3536061 ,\n",
       "       0.63204631, 0.42982562, 0.31211333, 0.40213256, 0.33908177,\n",
       "       0.45746047, 0.43217195, 0.56243399, 0.61303053, 0.47051595,\n",
       "       0.49481893, 0.55781884, 0.39202419, 0.641632  , 0.66844495,\n",
       "       0.54071616, 0.97894073, 0.68349179, 0.47754551, 0.42756391,\n",
       "       0.45356355, 0.39965422, 0.72575703, 0.36043799, 0.48377556,\n",
       "       0.39414078, 0.70923657, 0.21628879, 0.42750016, 0.47561886,\n",
       "       0.56387128, 0.59218058, 0.45684202, 0.69781449, 0.56295076,\n",
       "       0.99353021, 0.1983357 , 0.62412013, 0.29097349, 0.34039824,\n",
       "       0.89701692, 0.84896283, 0.1287629 , 0.45544526, 0.48683043,\n",
       "       0.07365758, 0.4902339 , 0.57866824, 0.54345303, 0.10112125,\n",
       "       0.72154165, 0.5489088 , 0.48761759, 0.34922141, 0.6423918 ,\n",
       "       0.68365383, 0.40358137, 0.51791752, 0.66539972, 0.10909758])"
      ]
     },
     "execution_count": 348,
     "metadata": {},
     "output_type": "execute_result"
    }
   ],
   "source": [
    "import numpy as np\n",
    "np.random.seed(10)\n",
    "mu= 0.5\n",
    "sigma = 0.2\n",
    "norm_data = np.random.normal(mu,sigma,100)\n",
    "norm_data"
   ]
  },
  {
   "cell_type": "code",
   "execution_count": 349,
   "id": "8970d561",
   "metadata": {},
   "outputs": [
    {
     "data": {
      "image/png": "[encoded data removed]",
      "text/plain": [
       "<Figure size 640x480 with 1 Axes>"
      ]
     },
     "metadata": {},
     "output_type": "display_data"
    }
   ],
   "source": [
    "sns.histplot(norm_data,kde=True,bins=25,color='skyblue')\n",
    "plt.title(\"Normal Distribution\")\n",
    "plt.show()\n"
   ]
  },
  {
   "cell_type": "markdown",
   "id": "6e7f508c",
   "metadata": {},
   "source": [
    "### LogNormal Distribution"
   ]
  },
  {
   "cell_type": "code",
   "execution_count": 350,
   "id": "cfbb820f",
   "metadata": {},
   "outputs": [],
   "source": [
    "### Creating a Log Normal Distribution using random values.\n",
    "mu= 3.0\n",
    "sigma = 1.0\n",
    "log_nomm_data = np.random.lognormal(mu,sigma,1000)"
   ]
  },
  {
   "cell_type": "code",
   "execution_count": 351,
   "id": "55f04755",
   "metadata": {},
   "outputs": [
    {
     "data": {
      "image/png": "[encoded data removed]",
      "text/plain": [
       "<Figure size 640x480 with 1 Axes>"
      ]
     },
     "metadata": {},
     "output_type": "display_data"
    }
   ],
   "source": [
    "sns.histplot(log_nomm_data,kde=True,color='green')\n",
    "plt.title(\"LogNormal Distribution\")\n",
    "plt.show()"
   ]
  },
  {
   "cell_type": "code",
   "execution_count": 352,
   "id": "7ec796eb",
   "metadata": {},
   "outputs": [],
   "source": [
    "# This is having the tail...FOr this value of mu and sigma we are getting this LogNormal Distribution\n",
    "# LogNormal Looks : Right Skewed "
   ]
  },
  {
   "cell_type": "markdown",
   "id": "6cd0b039",
   "metadata": {},
   "source": [
    "### Converting LogNormal to Normal and (proof log and exp are inverse of each other.)"
   ]
  },
  {
   "cell_type": "code",
   "execution_count": 353,
   "id": "c5a8ceba",
   "metadata": {},
   "outputs": [
    {
     "data": {
      "image/png": "[encoded data removed]",
      "text/plain": [
       "<Figure size 640x480 with 1 Axes>"
      ]
     },
     "metadata": {},
     "output_type": "display_data"
    }
   ],
   "source": [
    "# It is true that taking the logarithm of a LogNormal distribution results in a Normal distribution, the converse is not always true.\n",
    "# A LogNormal distribution is a continuous probability distribution of a random variable whose logarithm is normally distributed. \n",
    "# However, not all distributions that become Normal when their logarithms are taken are necessarily LogNormal. \n",
    "# There are other distributions that can also transform into Normal distributions when their logarithms are taken, such as the Chi-Squared distribution or the Exponential distribution.\n",
    "\n",
    "\n",
    "sns.histplot(np.log(log_nomm_data),kde=True,color='red')\n",
    "plt.show()"
   ]
  },
  {
   "cell_type": "code",
   "execution_count": 354,
   "id": "83c86ff2",
   "metadata": {},
   "outputs": [],
   "source": [
    "# Why we need to Convert it ?\n",
    "# Because we need to pass the normally distributed data to out algorithms."
   ]
  },
  {
   "cell_type": "markdown",
   "id": "2060cc26",
   "metadata": {},
   "source": [
    "Converting data to a normal distribution is often desirable for several reasons:\n",
    "\n",
    "1. **Assumption of Normality**: Many statistical methods and machine learning algorithms assume that the data are normally distributed. Transforming data to approximate a normal distribution allows these methods to be applied more reliably.\n",
    "\n",
    "2. **Statistical Testing**: Normality is often an assumption in statistical tests, such as t-tests, ANOVA, and linear regression. Converting data to a normal distribution ensures the validity of these tests.\n",
    "\n",
    "3. **Data Transformation**: Normalizing the data can make it easier to interpret and analyze. It can stabilize variance and make the data more symmetric, which can lead to more robust statistical analyses.\n",
    "\n",
    "4. **Outlier Handling**: Normalizing the data can help mitigate the influence of outliers, making the analysis more robust.\n",
    "\n",
    "5. **Algorithm Performance**: Some algorithms perform better with normally distributed data. For example, algorithms like linear regression and principal component analysis assume normality for optimal performance.\n",
    "\n",
    "However, it's important to note that while transforming data to approximate a normal distribution can be beneficial in many cases, it's not always necessary or appropriate. The decision to transform data should be based on the specific requirements of the analysis and the assumptions of the chosen statistical methods or algorithms. Additionally, it's important to consider the potential implications of data transformation on the interpretation of results."
   ]
  },
  {
   "cell_type": "code",
   "execution_count": 355,
   "id": "a21f59de",
   "metadata": {},
   "outputs": [
    {
     "data": {
      "image/png": "[encoded data removed]",
      "text/plain": [
       "<Figure size 640x480 with 1 Axes>"
      ]
     },
     "metadata": {},
     "output_type": "display_data"
    }
   ],
   "source": [
    "# Since we know that log and exp are inverse of each other..so using exp on log of log_nomral will give again log_normal.\n",
    "# Proof : log and exp are inverse of each other\n",
    "# The logarithm (log) and exponential (exp) functions are indeed inverses of each other.\n",
    "# This means that if we apply the logarithm to a number and then apply the exponential function to the result, we'll get back the original number.\n",
    "\n",
    "\n",
    "sns.histplot(np.exp(np.log(log_nomm_data)),kde=True,color='red')\n",
    "plt.show()"
   ]
  },
  {
   "cell_type": "markdown",
   "id": "c461a84a",
   "metadata": {},
   "source": [
    "### Q-Q Plot : TO Check the Normality of the curve...Is the Distribution is Normal or not?"
   ]
  },
  {
   "cell_type": "code",
   "execution_count": 356,
   "id": "584b43c5",
   "metadata": {},
   "outputs": [],
   "source": [
    "# Function which will do segregation b/w normal or not normal distributed data.\n",
    "\n",
    "import scipy.stats as stat\n",
    "import pylab"
   ]
  },
  {
   "cell_type": "code",
   "execution_count": 357,
   "id": "ab79ccff",
   "metadata": {},
   "outputs": [],
   "source": [
    "def plot_data(sample):\n",
    "    plt.figure(figsize=(10,6))"
   ]
  }
 ],
 "metadata": {
  "kernelspec": {
   "display_name": "Python3",
   "language": "python",
   "name": "python3"
  },
  "language_info": {
   "codemirror_mode": {
    "name": "ipython",
    "version": 3
   },
   "file_extension": ".py",
   "mimetype": "text/x-python",
   "name": "python",
   "nbconvert_exporter": "python",
   "pygments_lexer": "ipython3",
   "version": "3.9.0"
  }
 },
 "nbformat": 4,
 "nbformat_minor": 5
}
